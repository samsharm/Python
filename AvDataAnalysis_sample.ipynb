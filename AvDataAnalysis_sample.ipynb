{
  "nbformat": 4,
  "nbformat_minor": 0,
  "metadata": {
    "colab": {
      "name": "AvDataAnalysis-sample.ipynb",
      "provenance": [],
      "collapsed_sections": [],
      "authorship_tag": "ABX9TyMV+q5TAvnQGE1U4xy3J+6x",
      "include_colab_link": true
    },
    "kernelspec": {
      "name": "python3",
      "display_name": "Python 3"
    }
  },
  "cells": [
    {
      "cell_type": "markdown",
      "metadata": {
        "id": "view-in-github",
        "colab_type": "text"
      },
      "source": [
        "<a href=\"https://colab.research.google.com/github/samsharm/Python/blob/master/AvDataAnalysis_sample.ipynb\" target=\"_parent\"><img src=\"https://colab.research.google.com/assets/colab-badge.svg\" alt=\"Open In Colab\"/></a>"
      ]
    },
    {
      "cell_type": "code",
      "metadata": {
        "id": "phXPIy_LpX3p"
      },
      "source": [
        "import pandas as pd                                                 # Importing for panel data analysis\r\n",
        "from pandas_profiling import ProfileReport \r\n",
        "import numpy as np    \r\n",
        "import matplotlib.pyplot as plt                                     # Importing pyplot interface using matplotlib\r\n",
        "from matplotlib.pylab import rcParams                               # Backend used for rendering and GUI integration\r\n",
        "import seaborn as sns                                               # Importin seaborm library for interactive visualization\r\n",
        "%matplotlib inline\r\n",
        "import seaborn as sns"
      ],
      "execution_count": null,
      "outputs": []
    },
    {
      "cell_type": "code",
      "metadata": {
        "id": "WzEoA52LIE_5"
      },
      "source": [
        "from sklearn.model_selection import train_test_split                # To perform train, test and split over the data\r\n",
        "from sklearn.metrics import mean_squared_error    "
      ],
      "execution_count": null,
      "outputs": []
    },
    {
      "cell_type": "code",
      "metadata": {
        "id": "v1CeOx81IMFH"
      },
      "source": [
        "import warnings                                                     # Importing warning to disable runtime warnings\r\n",
        "warnings.filterwarnings(\"ignore\")   \r\n",
        "\r\n",
        "import xlrd"
      ],
      "execution_count": null,
      "outputs": []
    },
    {
      "cell_type": "code",
      "metadata": {
        "id": "K_qZPvVoIUx-"
      },
      "source": [
        "pd.set_option('display.max_columns', 10)  \r\n",
        "\r\n",
        "avdata=pd.read_csv('https://raw.githubusercontent.com/samsharm/Python/master/AviData-Jan-Feb2021.csv')\r\n",
        "\r\n",
        "                    \r\n",
        "                   "
      ],
      "execution_count": null,
      "outputs": []
    },
    {
      "cell_type": "markdown",
      "metadata": {
        "id": "SbwJ1YAdYFJ4"
      },
      "source": [
        "# New Section"
      ]
    },
    {
      "cell_type": "code",
      "metadata": {
        "colab": {
          "base_uri": "https://localhost:8080/",
          "height": 419
        },
        "id": "NDuUAI6INVNV",
        "outputId": "bcf17740-e951-4f0f-c910-c738c9e5c1ba"
      },
      "source": [
        "avdata"
      ],
      "execution_count": null,
      "outputs": [
        {
          "output_type": "execute_result",
          "data": {
            "text/html": [
              "<div>\n",
              "<style scoped>\n",
              "    .dataframe tbody tr th:only-of-type {\n",
              "        vertical-align: middle;\n",
              "    }\n",
              "\n",
              "    .dataframe tbody tr th {\n",
              "        vertical-align: top;\n",
              "    }\n",
              "\n",
              "    .dataframe thead th {\n",
              "        text-align: right;\n",
              "    }\n",
              "</style>\n",
              "<table border=\"1\" class=\"dataframe\">\n",
              "  <thead>\n",
              "    <tr style=\"text-align: right;\">\n",
              "      <th></th>\n",
              "      <th>ASSOCIATED SITE</th>\n",
              "      <th>LEG ID</th>\n",
              "      <th>UNIT CONSUMPTION</th>\n",
              "      <th>READING FOR</th>\n",
              "    </tr>\n",
              "  </thead>\n",
              "  <tbody>\n",
              "    <tr>\n",
              "      <th>0</th>\n",
              "      <td>Aerocity New Delhi</td>\n",
              "      <td>1848</td>\n",
              "      <td>179.77463</td>\n",
              "      <td>3/2/2021</td>\n",
              "    </tr>\n",
              "    <tr>\n",
              "      <th>1</th>\n",
              "      <td>Luhari-WHTM</td>\n",
              "      <td>1692</td>\n",
              "      <td>25.32800</td>\n",
              "      <td>3/2/2021</td>\n",
              "    </tr>\n",
              "    <tr>\n",
              "      <th>2</th>\n",
              "      <td>Luhari-WHTM</td>\n",
              "      <td>1691</td>\n",
              "      <td>649.40800</td>\n",
              "      <td>3/2/2021</td>\n",
              "    </tr>\n",
              "    <tr>\n",
              "      <th>3</th>\n",
              "      <td>Aerocity New Delhi</td>\n",
              "      <td>1848</td>\n",
              "      <td>539.45600</td>\n",
              "      <td>3/1/2021</td>\n",
              "    </tr>\n",
              "    <tr>\n",
              "      <th>4</th>\n",
              "      <td>Luhari-WHTM</td>\n",
              "      <td>1692</td>\n",
              "      <td>56.58400</td>\n",
              "      <td>3/1/2021</td>\n",
              "    </tr>\n",
              "    <tr>\n",
              "      <th>...</th>\n",
              "      <td>...</td>\n",
              "      <td>...</td>\n",
              "      <td>...</td>\n",
              "      <td>...</td>\n",
              "    </tr>\n",
              "    <tr>\n",
              "      <th>195</th>\n",
              "      <td>Aerocity New Delhi</td>\n",
              "      <td>1848</td>\n",
              "      <td>2288.19200</td>\n",
              "      <td>12/27/2020</td>\n",
              "    </tr>\n",
              "    <tr>\n",
              "      <th>196</th>\n",
              "      <td>Luhari-WHTM</td>\n",
              "      <td>1692</td>\n",
              "      <td>40.59200</td>\n",
              "      <td>12/27/2020</td>\n",
              "    </tr>\n",
              "    <tr>\n",
              "      <th>197</th>\n",
              "      <td>Luhari-WHTM</td>\n",
              "      <td>1691</td>\n",
              "      <td>1495.74400</td>\n",
              "      <td>12/27/2020</td>\n",
              "    </tr>\n",
              "    <tr>\n",
              "      <th>198</th>\n",
              "      <td>Aerocity New Delhi</td>\n",
              "      <td>1848</td>\n",
              "      <td>4552.32000</td>\n",
              "      <td>12/26/2020</td>\n",
              "    </tr>\n",
              "    <tr>\n",
              "      <th>199</th>\n",
              "      <td>Luhari-WHTM</td>\n",
              "      <td>1692</td>\n",
              "      <td>76.61200</td>\n",
              "      <td>12/26/2020</td>\n",
              "    </tr>\n",
              "  </tbody>\n",
              "</table>\n",
              "<p>200 rows × 4 columns</p>\n",
              "</div>"
            ],
            "text/plain": [
              "        ASSOCIATED SITE  LEG ID  UNIT CONSUMPTION READING FOR\n",
              "0    Aerocity New Delhi    1848         179.77463    3/2/2021\n",
              "1           Luhari-WHTM    1692          25.32800    3/2/2021\n",
              "2           Luhari-WHTM    1691         649.40800    3/2/2021\n",
              "3    Aerocity New Delhi    1848         539.45600    3/1/2021\n",
              "4           Luhari-WHTM    1692          56.58400    3/1/2021\n",
              "..                  ...     ...               ...         ...\n",
              "195  Aerocity New Delhi    1848        2288.19200  12/27/2020\n",
              "196         Luhari-WHTM    1692          40.59200  12/27/2020\n",
              "197         Luhari-WHTM    1691        1495.74400  12/27/2020\n",
              "198  Aerocity New Delhi    1848        4552.32000  12/26/2020\n",
              "199         Luhari-WHTM    1692          76.61200  12/26/2020\n",
              "\n",
              "[200 rows x 4 columns]"
            ]
          },
          "metadata": {
            "tags": []
          },
          "execution_count": 8
        }
      ]
    },
    {
      "cell_type": "code",
      "metadata": {
        "colab": {
          "base_uri": "https://localhost:8080/",
          "height": 390
        },
        "id": "N83YVMXrNjDu",
        "outputId": "dd87e31a-e48e-4f15-fa68-b5dbb37d0b45"
      },
      "source": [
        "avdata.describe(include=\"all\")"
      ],
      "execution_count": null,
      "outputs": [
        {
          "output_type": "execute_result",
          "data": {
            "text/html": [
              "<div>\n",
              "<style scoped>\n",
              "    .dataframe tbody tr th:only-of-type {\n",
              "        vertical-align: middle;\n",
              "    }\n",
              "\n",
              "    .dataframe tbody tr th {\n",
              "        vertical-align: top;\n",
              "    }\n",
              "\n",
              "    .dataframe thead th {\n",
              "        text-align: right;\n",
              "    }\n",
              "</style>\n",
              "<table border=\"1\" class=\"dataframe\">\n",
              "  <thead>\n",
              "    <tr style=\"text-align: right;\">\n",
              "      <th></th>\n",
              "      <th>ASSOCIATED SITE</th>\n",
              "      <th>LEG ID</th>\n",
              "      <th>UNIT CONSUMPTION</th>\n",
              "      <th>READING FOR</th>\n",
              "    </tr>\n",
              "  </thead>\n",
              "  <tbody>\n",
              "    <tr>\n",
              "      <th>count</th>\n",
              "      <td>200</td>\n",
              "      <td>200.000000</td>\n",
              "      <td>200.000000</td>\n",
              "      <td>200</td>\n",
              "    </tr>\n",
              "    <tr>\n",
              "      <th>unique</th>\n",
              "      <td>2</td>\n",
              "      <td>NaN</td>\n",
              "      <td>NaN</td>\n",
              "      <td>67</td>\n",
              "    </tr>\n",
              "    <tr>\n",
              "      <th>top</th>\n",
              "      <td>Luhari-WHTM</td>\n",
              "      <td>NaN</td>\n",
              "      <td>NaN</td>\n",
              "      <td>12/30/2020</td>\n",
              "    </tr>\n",
              "    <tr>\n",
              "      <th>freq</th>\n",
              "      <td>137</td>\n",
              "      <td>NaN</td>\n",
              "      <td>NaN</td>\n",
              "      <td>4</td>\n",
              "    </tr>\n",
              "    <tr>\n",
              "      <th>mean</th>\n",
              "      <td>NaN</td>\n",
              "      <td>1741.005000</td>\n",
              "      <td>1086.698333</td>\n",
              "      <td>NaN</td>\n",
              "    </tr>\n",
              "    <tr>\n",
              "      <th>std</th>\n",
              "      <td>NaN</td>\n",
              "      <td>72.741125</td>\n",
              "      <td>927.984750</td>\n",
              "      <td>NaN</td>\n",
              "    </tr>\n",
              "    <tr>\n",
              "      <th>min</th>\n",
              "      <td>NaN</td>\n",
              "      <td>1691.000000</td>\n",
              "      <td>0.856000</td>\n",
              "      <td>NaN</td>\n",
              "    </tr>\n",
              "    <tr>\n",
              "      <th>25%</th>\n",
              "      <td>NaN</td>\n",
              "      <td>1691.000000</td>\n",
              "      <td>138.500000</td>\n",
              "      <td>NaN</td>\n",
              "    </tr>\n",
              "    <tr>\n",
              "      <th>50%</th>\n",
              "      <td>NaN</td>\n",
              "      <td>1692.000000</td>\n",
              "      <td>1062.464000</td>\n",
              "      <td>NaN</td>\n",
              "    </tr>\n",
              "    <tr>\n",
              "      <th>75%</th>\n",
              "      <td>NaN</td>\n",
              "      <td>1848.000000</td>\n",
              "      <td>1722.288000</td>\n",
              "      <td>NaN</td>\n",
              "    </tr>\n",
              "    <tr>\n",
              "      <th>max</th>\n",
              "      <td>NaN</td>\n",
              "      <td>1848.000000</td>\n",
              "      <td>4552.320000</td>\n",
              "      <td>NaN</td>\n",
              "    </tr>\n",
              "  </tbody>\n",
              "</table>\n",
              "</div>"
            ],
            "text/plain": [
              "       ASSOCIATED SITE       LEG ID  UNIT CONSUMPTION READING FOR\n",
              "count              200   200.000000        200.000000         200\n",
              "unique               2          NaN               NaN          67\n",
              "top        Luhari-WHTM          NaN               NaN  12/30/2020\n",
              "freq               137          NaN               NaN           4\n",
              "mean               NaN  1741.005000       1086.698333         NaN\n",
              "std                NaN    72.741125        927.984750         NaN\n",
              "min                NaN  1691.000000          0.856000         NaN\n",
              "25%                NaN  1691.000000        138.500000         NaN\n",
              "50%                NaN  1692.000000       1062.464000         NaN\n",
              "75%                NaN  1848.000000       1722.288000         NaN\n",
              "max                NaN  1848.000000       4552.320000         NaN"
            ]
          },
          "metadata": {
            "tags": []
          },
          "execution_count": 13
        }
      ]
    },
    {
      "cell_type": "code",
      "metadata": {
        "colab": {
          "base_uri": "https://localhost:8080/"
        },
        "id": "dHzucq6gNm7w",
        "outputId": "b11c9665-6ebb-4475-a0dc-b689eeb55ef9"
      },
      "source": [
        "avdata.info()"
      ],
      "execution_count": null,
      "outputs": [
        {
          "output_type": "stream",
          "text": [
            "<class 'pandas.core.frame.DataFrame'>\n",
            "RangeIndex: 200 entries, 0 to 199\n",
            "Data columns (total 4 columns):\n",
            " #   Column            Non-Null Count  Dtype  \n",
            "---  ------            --------------  -----  \n",
            " 0   ASSOCIATED SITE   200 non-null    object \n",
            " 1   LEG ID            200 non-null    int64  \n",
            " 2   UNIT CONSUMPTION  200 non-null    float64\n",
            " 3   READING FOR       200 non-null    object \n",
            "dtypes: float64(1), int64(1), object(2)\n",
            "memory usage: 6.4+ KB\n"
          ],
          "name": "stdout"
        }
      ]
    },
    {
      "cell_type": "code",
      "metadata": {
        "colab": {
          "base_uri": "https://localhost:8080/"
        },
        "id": "e79pPmSMOKSs",
        "outputId": "52ba143d-6363-4194-87be-ecc9a722d85c"
      },
      "source": [
        "avdata.isnull().sum()"
      ],
      "execution_count": null,
      "outputs": [
        {
          "output_type": "execute_result",
          "data": {
            "text/plain": [
              "ASSOCIATED SITE     0\n",
              "LEG ID              0\n",
              "UNIT CONSUMPTION    0\n",
              "READING FOR         0\n",
              "dtype: int64"
            ]
          },
          "metadata": {
            "tags": []
          },
          "execution_count": 31
        }
      ]
    },
    {
      "cell_type": "code",
      "metadata": {
        "colab": {
          "base_uri": "https://localhost:8080/",
          "height": 489
        },
        "id": "YkGnH--1OoeX",
        "outputId": "887e2afb-449a-4611-de95-c9ee962dea8c"
      },
      "source": [
        "plt.figure(figsize=[10,8])\r\n",
        "sns.catplot(x=\"ASSOCIATED SITE\", y=\"UNIT CONSUMPTION\", data=avdata, height=6, aspect = 1.5)\r\n"
      ],
      "execution_count": null,
      "outputs": [
        {
          "output_type": "execute_result",
          "data": {
            "text/plain": [
              "<seaborn.axisgrid.FacetGrid at 0x7ff09191d9d0>"
            ]
          },
          "metadata": {
            "tags": []
          },
          "execution_count": 24
        },
        {
          "output_type": "display_data",
          "data": {
            "text/plain": [
              "<Figure size 720x576 with 0 Axes>"
            ]
          },
          "metadata": {
            "tags": []
          }
        },
        {
          "output_type": "display_data",
          "data": {
            "image/png": "[encoded data removed]",
            "text/plain": [
              "<Figure size 648x432 with 1 Axes>"
            ]
          },
          "metadata": {
            "tags": [],
            "needs_background": "light"
          }
        }
      ]
    },
    {
      "cell_type": "code",
      "metadata": {
        "colab": {
          "base_uri": "https://localhost:8080/",
          "height": 489
        },
        "id": "nT4rrpKMst2Z",
        "outputId": "4a0ddbf2-3c06-4de2-9425-aa3cf63f00d9"
      },
      "source": [
        "plt.figure(figsize=[10,8])\r\n",
        "sns.catplot(x=\"LEG ID\", y=\"UNIT CONSUMPTION\", data=avdata, height=6, aspect = 1.5)"
      ],
      "execution_count": null,
      "outputs": [
        {
          "output_type": "execute_result",
          "data": {
            "text/plain": [
              "<seaborn.axisgrid.FacetGrid at 0x7fa5a8782210>"
            ]
          },
          "metadata": {
            "tags": []
          },
          "execution_count": 34
        },
        {
          "output_type": "display_data",
          "data": {
            "text/plain": [
              "<Figure size 720x576 with 0 Axes>"
            ]
          },
          "metadata": {
            "tags": []
          }
        },
        {
          "output_type": "display_data",
          "data": {
            "image/png": "[encoded data removed]",
            "text/plain": [
              "<Figure size 648x432 with 1 Axes>"
            ]
          },
          "metadata": {
            "tags": [],
            "needs_background": "light"
          }
        }
      ]
    },
    {
      "cell_type": "code",
      "metadata": {
        "colab": {
          "base_uri": "https://localhost:8080/",
          "height": 514
        },
        "id": "F2Rk55ZethfU",
        "outputId": "b47d505f-01f6-40c0-8fc1-7924e7b2e9d3"
      },
      "source": [
        "plt.figure(figsize=[10,8])\r\n",
        "sns.lineplot(x=avdata['READING FOR'], y=avdata['UNIT CONSUMPTION'], hue=avdata['ASSOCIATED SITE'])"
      ],
      "execution_count": null,
      "outputs": [
        {
          "output_type": "execute_result",
          "data": {
            "text/plain": [
              "<matplotlib.axes._subplots.AxesSubplot at 0x7fa5a8183ad0>"
            ]
          },
          "metadata": {
            "tags": []
          },
          "execution_count": 40
        },
        {
          "output_type": "display_data",
          "data": {
            "image/png": "[encoded data removed]",
            "text/plain": [
              "<Figure size 720x576 with 1 Axes>"
            ]
          },
          "metadata": {
            "tags": [],
            "needs_background": "light"
          }
        }
      ]
    },
    {
      "cell_type": "code",
      "metadata": {
        "colab": {
          "base_uri": "https://localhost:8080/",
          "height": 557
        },
        "id": "bnKmhqhB94NM",
        "outputId": "944fc987-b0d8-4558-b367-3f9ff42340ea"
      },
      "source": [
        "\r\n",
        "X=avdata.columns[1]\r\n",
        "y=avdata.columns[2]\r\n",
        "\r\n",
        "avdata.boxplot(y, X, figsize=[15,8])\r\n",
        "\r\n",
        "\r\n",
        "#avdata=pd.read_csv('https://raw.githubusercontent.com/samsharm/Python/master/AviData-Jan-Feb2021.csv')"
      ],
      "execution_count": null,
      "outputs": [
        {
          "output_type": "execute_result",
          "data": {
            "text/plain": [
              "<matplotlib.axes._subplots.AxesSubplot at 0x7ff08273b050>"
            ]
          },
          "metadata": {
            "tags": []
          },
          "execution_count": 63
        },
        {
          "output_type": "display_data",
          "data": {
            "image/png": "[encoded data removed]",
            "text/plain": [
              "<Figure size 1080x576 with 1 Axes>"
            ]
          },
          "metadata": {
            "tags": [],
            "needs_background": "light"
          }
        }
      ]
    },
    {
      "cell_type": "markdown",
      "metadata": {
        "id": "uF3_uOFY87UQ"
      },
      "source": [
        "# ML Algorithm"
      ]
    },
    {
      "cell_type": "code",
      "metadata": {
        "id": "jA7Qf40F90CI"
      },
      "source": [
        "import numpy as np\r\n",
        "import matplotlib.pyplot as plt\r\n",
        "%matplotlib inline\r\n",
        "\r\n",
        "from sklearn.model_selection import train_test_split\r\n",
        "from sklearn.linear_model import LinearRegression\r\n",
        "from sklearn.model_selection import cross_val_score\r\n",
        "\r\n",
        "from sklearn.metrics import accuracy_score, recall_score, precision_score, confusion_matrix"
      ],
      "execution_count": null,
      "outputs": []
    },
    {
      "cell_type": "code",
      "metadata": {
        "colab": {
          "base_uri": "https://localhost:8080/"
        },
        "id": "m-hI9MY6E9HL",
        "outputId": "8116ddd9-8602-404c-b2f3-a36258c87da2"
      },
      "source": [
        "\r\n",
        "avdata_filtered = avdata[avdata['LEG ID'] != 1848] \r\n",
        "for i= len(avdata_filtered.shape.[0])\r\n",
        "  if avdata_filtered[1].\r\n",
        "  avdata_filtered[2]=avdata_filtered[2]\r\n",
        "#avdata_filtered = avdata[sum('UNIT CONSUMPTION')]\r\n",
        "avdata_filtered = avdata_filtered.drop(['ASSOCIATED SITE','LEG ID'], axis=1)\r\n",
        "X= pd.to_datetime(avdata_filtered['READING FOR'])\r\n",
        "y= avdata_filtered.drop('READING FOR', axis=1)\r\n",
        "X"
      ],
      "execution_count": null,
      "outputs": [
        {
          "output_type": "execute_result",
          "data": {
            "text/plain": [
              "1     2021-03-02\n",
              "2     2021-03-02\n",
              "4     2021-03-01\n",
              "5     2021-03-01\n",
              "7     2021-02-28\n",
              "         ...    \n",
              "193   2020-12-28\n",
              "194   2020-12-28\n",
              "196   2020-12-27\n",
              "197   2020-12-27\n",
              "199   2020-12-26\n",
              "Name: READING FOR, Length: 137, dtype: datetime64[ns]"
            ]
          },
          "metadata": {
            "tags": []
          },
          "execution_count": 15
        }
      ]
    },
    {
      "cell_type": "code",
      "metadata": {
        "colab": {
          "base_uri": "https://localhost:8080/"
        },
        "id": "etxrTs6WJsTw",
        "outputId": "6be9ad73-c7db-4c6e-961d-4d614bad01f2"
      },
      "source": [
        "avdata.shape\r\n",
        "avdata_filtered.shape[0]\r\n"
      ],
      "execution_count": null,
      "outputs": [
        {
          "output_type": "execute_result",
          "data": {
            "text/plain": [
              "137"
            ]
          },
          "metadata": {
            "tags": []
          },
          "execution_count": 17
        }
      ]
    },
    {
      "cell_type": "code",
      "metadata": {
        "colab": {
          "base_uri": "https://localhost:8080/",
          "height": 419
        },
        "id": "NH4_T-o4IaRD",
        "outputId": "7bd1ab2e-f8fa-4782-b6c3-4d74c9c1f247"
      },
      "source": [
        "y"
      ],
      "execution_count": null,
      "outputs": [
        {
          "output_type": "execute_result",
          "data": {
            "text/html": [
              "<div>\n",
              "<style scoped>\n",
              "    .dataframe tbody tr th:only-of-type {\n",
              "        vertical-align: middle;\n",
              "    }\n",
              "\n",
              "    .dataframe tbody tr th {\n",
              "        vertical-align: top;\n",
              "    }\n",
              "\n",
              "    .dataframe thead th {\n",
              "        text-align: right;\n",
              "    }\n",
              "</style>\n",
              "<table border=\"1\" class=\"dataframe\">\n",
              "  <thead>\n",
              "    <tr style=\"text-align: right;\">\n",
              "      <th></th>\n",
              "      <th>UNIT CONSUMPTION</th>\n",
              "    </tr>\n",
              "  </thead>\n",
              "  <tbody>\n",
              "    <tr>\n",
              "      <th>1</th>\n",
              "      <td>25.328</td>\n",
              "    </tr>\n",
              "    <tr>\n",
              "      <th>2</th>\n",
              "      <td>649.408</td>\n",
              "    </tr>\n",
              "    <tr>\n",
              "      <th>4</th>\n",
              "      <td>56.584</td>\n",
              "    </tr>\n",
              "    <tr>\n",
              "      <th>5</th>\n",
              "      <td>1280.768</td>\n",
              "    </tr>\n",
              "    <tr>\n",
              "      <th>7</th>\n",
              "      <td>139.988</td>\n",
              "    </tr>\n",
              "    <tr>\n",
              "      <th>...</th>\n",
              "      <td>...</td>\n",
              "    </tr>\n",
              "    <tr>\n",
              "      <th>193</th>\n",
              "      <td>229.456</td>\n",
              "    </tr>\n",
              "    <tr>\n",
              "      <th>194</th>\n",
              "      <td>1454.912</td>\n",
              "    </tr>\n",
              "    <tr>\n",
              "      <th>196</th>\n",
              "      <td>40.592</td>\n",
              "    </tr>\n",
              "    <tr>\n",
              "      <th>197</th>\n",
              "      <td>1495.744</td>\n",
              "    </tr>\n",
              "    <tr>\n",
              "      <th>199</th>\n",
              "      <td>76.612</td>\n",
              "    </tr>\n",
              "  </tbody>\n",
              "</table>\n",
              "<p>137 rows × 1 columns</p>\n",
              "</div>"
            ],
            "text/plain": [
              "     UNIT CONSUMPTION\n",
              "1              25.328\n",
              "2             649.408\n",
              "4              56.584\n",
              "5            1280.768\n",
              "7             139.988\n",
              "..                ...\n",
              "193           229.456\n",
              "194          1454.912\n",
              "196            40.592\n",
              "197          1495.744\n",
              "199            76.612\n",
              "\n",
              "[137 rows x 1 columns]"
            ]
          },
          "metadata": {
            "tags": []
          },
          "execution_count": 40
        }
      ]
    },
    {
      "cell_type": "code",
      "metadata": {
        "colab": {
          "base_uri": "https://localhost:8080/",
          "height": 500
        },
        "id": "qf07ssE2L2Pd",
        "outputId": "190c03a7-cd80-4f28-cc32-998809ee23dc"
      },
      "source": [
        "plt.figure(figsize=[17,8])\r\n",
        "plt.scatter(X,y)"
      ],
      "execution_count": null,
      "outputs": [
        {
          "output_type": "execute_result",
          "data": {
            "text/plain": [
              "<matplotlib.collections.PathCollection at 0x7f4a34d50d50>"
            ]
          },
          "metadata": {
            "tags": []
          },
          "execution_count": 58
        },
        {
          "output_type": "display_data",
          "data": {
            "image/png": "[encoded data removed]",
            "text/plain": [
              "<Figure size 1224x576 with 1 Axes>"
            ]
          },
          "metadata": {
            "tags": [],
            "needs_background": "light"
          }
        }
      ]
    },
    {
      "cell_type": "code",
      "metadata": {
        "id": "9GJgCRE7lSWV"
      },
      "source": [
        "# train test split"
      ],
      "execution_count": null,
      "outputs": []
    },
    {
      "cell_type": "code",
      "metadata": {
        "colab": {
          "base_uri": "https://localhost:8080/"
        },
        "id": "C726hwbHEEIK",
        "outputId": "70a98b5c-82d4-40e4-8858-4bd54d8b1a13"
      },
      "source": [
        "X_train, X_test, y_train, y_test=train_test_split(X,y,test_size=0.02,random_state=1)\r\n",
        "X_train.item"
      ],
      "execution_count": null,
      "outputs": [
        {
          "output_type": "execute_result",
          "data": {
            "text/plain": [
              "<bound method IndexOpsMixin.item of 54    2021-02-13\n",
              "52    2021-02-14\n",
              "91    2021-01-28\n",
              "65    2021-02-10\n",
              "117   2021-01-19\n",
              "         ...    \n",
              "189   2020-12-30\n",
              "120   2021-01-18\n",
              "194   2020-12-28\n",
              "110   2021-01-21\n",
              "55    2021-02-13\n",
              "Name: READING FOR, Length: 134, dtype: datetime64[ns]>"
            ]
          },
          "metadata": {
            "tags": []
          },
          "execution_count": 49
        }
      ]
    },
    {
      "cell_type": "code",
      "metadata": {
        "colab": {
          "base_uri": "https://localhost:8080/",
          "height": 1000
        },
        "id": "HRJp-qClFwJL",
        "outputId": "c4c064b4-e606-4c33-a129-58d2472428be"
      },
      "source": [
        "LM=LinearRegression()\r\n",
        "LM.fit(X_train, y_train)\r\n",
        "\r\n"
      ],
      "execution_count": null,
      "outputs": [
        {
          "output_type": "error",
          "ename": "ValueError",
          "evalue": "ignored",
          "traceback": [
            "\u001b[0;31m---------------------------------------------------------------------------\u001b[0m",
            "\u001b[0;31mValueError\u001b[0m                                Traceback (most recent call last)",
            "\u001b[0;32m<ipython-input-61-006f56d0ba1d>\u001b[0m in \u001b[0;36m<module>\u001b[0;34m()\u001b[0m\n\u001b[1;32m      1\u001b[0m \u001b[0mLM\u001b[0m\u001b[0;34m=\u001b[0m\u001b[0mLinearRegression\u001b[0m\u001b[0;34m(\u001b[0m\u001b[0;34m)\u001b[0m\u001b[0;34m\u001b[0m\u001b[0;34m\u001b[0m\u001b[0m\n\u001b[0;32m----> 2\u001b[0;31m \u001b[0mLM\u001b[0m\u001b[0;34m.\u001b[0m\u001b[0mfit\u001b[0m\u001b[0;34m(\u001b[0m\u001b[0mX_train\u001b[0m\u001b[0;34m,\u001b[0m \u001b[0my_train\u001b[0m\u001b[0;34m)\u001b[0m\u001b[0;34m\u001b[0m\u001b[0;34m\u001b[0m\u001b[0m\n\u001b[0m\u001b[1;32m      3\u001b[0m \u001b[0;34m\u001b[0m\u001b[0m\n",
            "\u001b[0;32m/usr/local/lib/python3.7/dist-packages/sklearn/linear_model/_base.py\u001b[0m in \u001b[0;36mfit\u001b[0;34m(self, X, y, sample_weight)\u001b[0m\n\u001b[1;32m    490\u001b[0m         \u001b[0mn_jobs_\u001b[0m \u001b[0;34m=\u001b[0m \u001b[0mself\u001b[0m\u001b[0;34m.\u001b[0m\u001b[0mn_jobs\u001b[0m\u001b[0;34m\u001b[0m\u001b[0;34m\u001b[0m\u001b[0m\n\u001b[1;32m    491\u001b[0m         X, y = check_X_y(X, y, accept_sparse=['csr', 'csc', 'coo'],\n\u001b[0;32m--> 492\u001b[0;31m                          y_numeric=True, multi_output=True)\n\u001b[0m\u001b[1;32m    493\u001b[0m \u001b[0;34m\u001b[0m\u001b[0m\n\u001b[1;32m    494\u001b[0m         \u001b[0;32mif\u001b[0m \u001b[0msample_weight\u001b[0m \u001b[0;32mis\u001b[0m \u001b[0;32mnot\u001b[0m \u001b[0;32mNone\u001b[0m\u001b[0;34m:\u001b[0m\u001b[0;34m\u001b[0m\u001b[0;34m\u001b[0m\u001b[0m\n",
            "\u001b[0;32m/usr/local/lib/python3.7/dist-packages/sklearn/utils/validation.py\u001b[0m in \u001b[0;36mcheck_X_y\u001b[0;34m(X, y, accept_sparse, accept_large_sparse, dtype, order, copy, force_all_finite, ensure_2d, allow_nd, multi_output, ensure_min_samples, ensure_min_features, y_numeric, warn_on_dtype, estimator)\u001b[0m\n\u001b[1;32m    753\u001b[0m                     \u001b[0mensure_min_features\u001b[0m\u001b[0;34m=\u001b[0m\u001b[0mensure_min_features\u001b[0m\u001b[0;34m,\u001b[0m\u001b[0;34m\u001b[0m\u001b[0;34m\u001b[0m\u001b[0m\n\u001b[1;32m    754\u001b[0m                     \u001b[0mwarn_on_dtype\u001b[0m\u001b[0;34m=\u001b[0m\u001b[0mwarn_on_dtype\u001b[0m\u001b[0;34m,\u001b[0m\u001b[0;34m\u001b[0m\u001b[0;34m\u001b[0m\u001b[0m\n\u001b[0;32m--> 755\u001b[0;31m                     estimator=estimator)\n\u001b[0m\u001b[1;32m    756\u001b[0m     \u001b[0;32mif\u001b[0m \u001b[0mmulti_output\u001b[0m\u001b[0;34m:\u001b[0m\u001b[0;34m\u001b[0m\u001b[0;34m\u001b[0m\u001b[0m\n\u001b[1;32m    757\u001b[0m         y = check_array(y, 'csr', force_all_finite=True, ensure_2d=False,\n",
            "\u001b[0;32m/usr/local/lib/python3.7/dist-packages/sklearn/utils/validation.py\u001b[0m in \u001b[0;36mcheck_array\u001b[0;34m(array, accept_sparse, accept_large_sparse, dtype, order, copy, force_all_finite, ensure_2d, allow_nd, ensure_min_samples, ensure_min_features, warn_on_dtype, estimator)\u001b[0m\n\u001b[1;32m    554\u001b[0m                     \u001b[0;34m\"Reshape your data either using array.reshape(-1, 1) if \"\u001b[0m\u001b[0;34m\u001b[0m\u001b[0;34m\u001b[0m\u001b[0m\n\u001b[1;32m    555\u001b[0m                     \u001b[0;34m\"your data has a single feature or array.reshape(1, -1) \"\u001b[0m\u001b[0;34m\u001b[0m\u001b[0;34m\u001b[0m\u001b[0m\n\u001b[0;32m--> 556\u001b[0;31m                     \"if it contains a single sample.\".format(array))\n\u001b[0m\u001b[1;32m    557\u001b[0m \u001b[0;34m\u001b[0m\u001b[0m\n\u001b[1;32m    558\u001b[0m         \u001b[0;31m# in the future np.flexible dtypes will be handled like object dtypes\u001b[0m\u001b[0;34m\u001b[0m\u001b[0;34m\u001b[0m\u001b[0;34m\u001b[0m\u001b[0m\n",
            "\u001b[0;31mValueError\u001b[0m: Expected 2D array, got 1D array instead:\narray=['2021-02-13T00:00:00.000000000' '2021-02-14T00:00:00.000000000'\n '2021-01-28T00:00:00.000000000' '2021-02-10T00:00:00.000000000'\n '2021-01-19T00:00:00.000000000' '2021-01-02T00:00:00.000000000'\n '2021-01-02T00:00:00.000000000' '2021-02-21T00:00:00.000000000'\n '2021-01-13T00:00:00.000000000' '2021-01-02T00:00:00.000000000'\n '2021-02-22T00:00:00.000000000' '2021-02-16T00:00:00.000000000'\n '2021-01-13T00:00:00.000000000' '2021-02-08T00:00:00.000000000'\n '2021-02-05T00:00:00.000000000' '2021-01-25T00:00:00.000000000'\n '2021-01-16T00:00:00.000000000' '2020-12-30T00:00:00.000000000'\n '2021-02-23T00:00:00.000000000' '2021-01-20T00:00:00.000000000'\n '2021-01-11T00:00:00.000000000' '2021-01-30T00:00:00.000000000'\n '2021-02-15T00:00:00.000000000' '2021-02-28T00:00:00.000000000'\n '2020-12-28T00:00:00.000000000' '2021-01-12T00:00:00.000000000'\n '2021-01-24T00:00:00.000000000' '2021-01-06T00:00:00.000000000'\n '2021-01-01T00:00:00.000000000' '2021-02-11T00:00:00.000000000'\n '2021-02-05T00:00:00.000000000' '2020-12-31T00:00:00.000000000'\n '2021-02-11T00:00:00.000000000' '2021-01-22T00:00:00.000000000'\n '2021-02-25T00:00:00.000000000' '2021-03-01T00:00:00.000000000'\n '2020-12-27T00:00:00.000000000' '2021-01-14T00:00:00.000000000'\n '2021-02-27T00:00:00.000000000' '2021-02-09T00:00:00.000000000'\n '2020-12-30T00:00:00.000000000' '2021-01-05T00:00:00.000000000'\n '2021-01-05T00:00:00.000000000' '2021-01-08T00:00:00.000000000'\n '2021-01-29T00:00:00.000000000' '2020-12-31T00:00:00.000000000'\n '2021-01-26T00:00:00.000000000' '2021-02-09T00:00:00.000000000'\n '2021-01-09T00:00:00.000000000' '2021-01-01T00:00:00.000000000'\n '2021-02-06T00:00:00.000000000' '2021-01-20T00:00:00.000000000'\n '2021-01-04T00:00:00.000000000' '2021-01-28T00:00:00.000000000'\n '2021-01-12T00:00:00.000000000' '2021-01-18T00:00:00.000000000'\n '2021-01-16T00:00:00.000000000' '2021-02-26T00:00:00.000000000'\n '2021-02-14T00:00:00.000000000' '2021-02-15T00:00:00.000000000'\n '2021-01-10T00:00:00.000000000' '2021-02-12T00:00:00.000000000'\n '2021-01-03T00:00:00.000000000' '2020-12-26T00:00:00.000000000'\n '2021-02-18T00:00:00.000000000' '2021-02-19T00:00:00.000000000'\n '2021-01-23T00:00:00.000000000' '2021-01-06T00:00:00.000000000'\n '2021-01-07T00:00:00.000000000' '2021-01-19T00:00:00.000000000'\n '2021-01-09T00:00:00.000000000' '2021-01-06T00:00:00.000000000'\n '2020-12-29T00:00:00.000000000' '2021-01-15T00:00:00.000000000'\n '2021-01-25T00:00:00.000000000' '2021-02-23T00:00:00.000000000'\n '2021-02-11T00:00:00.000000000' '2021-02-06T00:00:00.000000000'\n '2021-02-18T00:00:00.000000000' '2021-01-19T00:00:00.000000000'\n '2021-02-10T00:00:00.000000000' '2021-02-19T00:00:00.000000000'\n '2021-01-03T00:00:00.000000000' '2021-01-13T00:00:00.000000000'\n '2021-01-08T00:00:00.000000000' '2021-02-07T00:00:00.000000000'\n '2021-02-20T00:00:00.000000000' '2021-01-22T00:00:00.000000000'\n '2021-03-01T00:00:00.000000000' '2020-12-29T00:00:00.000000000'\n '2021-02-16T00:00:00.000000000' '2020-12-27T00:00:00.000000000'\n '2021-02-08T00:00:00.000000000' '2021-01-05T00:00:00.000000000'\n '2021-01-14T00:00:00.000000000' '2021-02-26T00:00:00.000000000'\n '2021-01-17T00:00:00.000000000' '2021-01-27T00:00:00.000000000'\n '2021-03-02T00:00:00.000000000' '2021-03-02T00:00:00.000000000'\n '2021-01-29T00:00:00.000000000' '2021-02-20T00:00:00.000000000'\n '2021-01-27T00:00:00.000000000' '2021-01-26T00:00:00.000000000'\n '2021-02-27T00:00:00.000000000' '2021-02-26T00:00:00.000000000'\n '2021-01-04T00:00:00.000000000' '2021-02-24T00:00:00.000000000'\n '2021-01-15T00:00:00.000000000' '2021-01-11T00:00:00.000000000'\n '2021-01-12T00:00:00.000000000' '2021-01-04T00:00:00.000000000'\n '2021-01-07T00:00:00.000000000' '2021-01-03T00:00:00.000000000'\n '2021-01-15T00:00:00.000000000' '2021-01-23T00:00:00.000000000'\n '2021-02-07T00:00:00.000000000' '2021-02-24T00:00:00.000000000'\n '2021-02-17T00:00:00.000000000' '2021-02-17T00:00:00.000000000'\n '2021-01-07T00:00:00.000000000' '2020-12-31T00:00:00.000000000'\n '2021-02-25T00:00:00.000000000' '2021-01-16T00:00:00.000000000'\n '2021-02-22T00:00:00.000000000' '2021-01-09T00:00:00.000000000'\n '2021-02-21T00:00:00.000000000' '2021-02-19T00:00:00.000000000'\n '2021-01-21T00:00:00.000000000' '2020-12-30T00:00:00.000000000'\n '2021-01-18T00:00:00.000000000' '2020-12-28T00:00:00.000000000'\n '2021-01-21T00:00:00.000000000' '2021-02-13T00:00:00.000000000'].\nReshape your data either using array.reshape(-1, 1) if your data has a single feature or array.reshape(1, -1) if it contains a single sample."
          ]
        }
      ]
    },
    {
      "cell_type": "code",
      "metadata": {
        "colab": {
          "base_uri": "https://localhost:8080/",
          "height": 306
        },
        "id": "Eql6NobKJghb",
        "outputId": "13205b86-8f2d-4ad2-c50b-1803abe80e33"
      },
      "source": [
        "\r\n",
        "print(LM.score(X_test, y_test)) \r\n",
        "LM_y_pred=LM.predict(X_test)"
      ],
      "execution_count": null,
      "outputs": [
        {
          "output_type": "error",
          "ename": "NotFittedError",
          "evalue": "ignored",
          "traceback": [
            "\u001b[0;31m---------------------------------------------------------------------------\u001b[0m",
            "\u001b[0;31mNotFittedError\u001b[0m                            Traceback (most recent call last)",
            "\u001b[0;32m<ipython-input-44-86dc2d89a1f3>\u001b[0m in \u001b[0;36m<module>\u001b[0;34m()\u001b[0m\n\u001b[0;32m----> 1\u001b[0;31m \u001b[0mLM_y_pred\u001b[0m\u001b[0;34m=\u001b[0m\u001b[0mLM\u001b[0m\u001b[0;34m.\u001b[0m\u001b[0mpredict\u001b[0m\u001b[0;34m(\u001b[0m\u001b[0mX_test\u001b[0m\u001b[0;34m)\u001b[0m\u001b[0;34m\u001b[0m\u001b[0;34m\u001b[0m\u001b[0m\n\u001b[0m",
            "\u001b[0;32m/usr/local/lib/python3.7/dist-packages/sklearn/linear_model/_base.py\u001b[0m in \u001b[0;36mpredict\u001b[0;34m(self, X)\u001b[0m\n\u001b[1;32m    223\u001b[0m             \u001b[0mReturns\u001b[0m \u001b[0mpredicted\u001b[0m \u001b[0mvalues\u001b[0m\u001b[0;34m.\u001b[0m\u001b[0;34m\u001b[0m\u001b[0;34m\u001b[0m\u001b[0m\n\u001b[1;32m    224\u001b[0m         \"\"\"\n\u001b[0;32m--> 225\u001b[0;31m         \u001b[0;32mreturn\u001b[0m \u001b[0mself\u001b[0m\u001b[0;34m.\u001b[0m\u001b[0m_decision_function\u001b[0m\u001b[0;34m(\u001b[0m\u001b[0mX\u001b[0m\u001b[0;34m)\u001b[0m\u001b[0;34m\u001b[0m\u001b[0;34m\u001b[0m\u001b[0m\n\u001b[0m\u001b[1;32m    226\u001b[0m \u001b[0;34m\u001b[0m\u001b[0m\n\u001b[1;32m    227\u001b[0m     \u001b[0m_preprocess_data\u001b[0m \u001b[0;34m=\u001b[0m \u001b[0mstaticmethod\u001b[0m\u001b[0;34m(\u001b[0m\u001b[0m_preprocess_data\u001b[0m\u001b[0;34m)\u001b[0m\u001b[0;34m\u001b[0m\u001b[0;34m\u001b[0m\u001b[0m\n",
            "\u001b[0;32m/usr/local/lib/python3.7/dist-packages/sklearn/linear_model/_base.py\u001b[0m in \u001b[0;36m_decision_function\u001b[0;34m(self, X)\u001b[0m\n\u001b[1;32m    203\u001b[0m \u001b[0;34m\u001b[0m\u001b[0m\n\u001b[1;32m    204\u001b[0m     \u001b[0;32mdef\u001b[0m \u001b[0m_decision_function\u001b[0m\u001b[0;34m(\u001b[0m\u001b[0mself\u001b[0m\u001b[0;34m,\u001b[0m \u001b[0mX\u001b[0m\u001b[0;34m)\u001b[0m\u001b[0;34m:\u001b[0m\u001b[0;34m\u001b[0m\u001b[0;34m\u001b[0m\u001b[0m\n\u001b[0;32m--> 205\u001b[0;31m         \u001b[0mcheck_is_fitted\u001b[0m\u001b[0;34m(\u001b[0m\u001b[0mself\u001b[0m\u001b[0;34m)\u001b[0m\u001b[0;34m\u001b[0m\u001b[0;34m\u001b[0m\u001b[0m\n\u001b[0m\u001b[1;32m    206\u001b[0m \u001b[0;34m\u001b[0m\u001b[0m\n\u001b[1;32m    207\u001b[0m         \u001b[0mX\u001b[0m \u001b[0;34m=\u001b[0m \u001b[0mcheck_array\u001b[0m\u001b[0;34m(\u001b[0m\u001b[0mX\u001b[0m\u001b[0;34m,\u001b[0m \u001b[0maccept_sparse\u001b[0m\u001b[0;34m=\u001b[0m\u001b[0;34m[\u001b[0m\u001b[0;34m'csr'\u001b[0m\u001b[0;34m,\u001b[0m \u001b[0;34m'csc'\u001b[0m\u001b[0;34m,\u001b[0m \u001b[0;34m'coo'\u001b[0m\u001b[0;34m]\u001b[0m\u001b[0;34m)\u001b[0m\u001b[0;34m\u001b[0m\u001b[0;34m\u001b[0m\u001b[0m\n",
            "\u001b[0;32m/usr/local/lib/python3.7/dist-packages/sklearn/utils/validation.py\u001b[0m in \u001b[0;36mcheck_is_fitted\u001b[0;34m(estimator, attributes, msg, all_or_any)\u001b[0m\n\u001b[1;32m    965\u001b[0m \u001b[0;34m\u001b[0m\u001b[0m\n\u001b[1;32m    966\u001b[0m     \u001b[0;32mif\u001b[0m \u001b[0;32mnot\u001b[0m \u001b[0mattrs\u001b[0m\u001b[0;34m:\u001b[0m\u001b[0;34m\u001b[0m\u001b[0;34m\u001b[0m\u001b[0m\n\u001b[0;32m--> 967\u001b[0;31m         \u001b[0;32mraise\u001b[0m \u001b[0mNotFittedError\u001b[0m\u001b[0;34m(\u001b[0m\u001b[0mmsg\u001b[0m \u001b[0;34m%\u001b[0m \u001b[0;34m{\u001b[0m\u001b[0;34m'name'\u001b[0m\u001b[0;34m:\u001b[0m \u001b[0mtype\u001b[0m\u001b[0;34m(\u001b[0m\u001b[0mestimator\u001b[0m\u001b[0;34m)\u001b[0m\u001b[0;34m.\u001b[0m\u001b[0m__name__\u001b[0m\u001b[0;34m}\u001b[0m\u001b[0;34m)\u001b[0m\u001b[0;34m\u001b[0m\u001b[0;34m\u001b[0m\u001b[0m\n\u001b[0m\u001b[1;32m    968\u001b[0m \u001b[0;34m\u001b[0m\u001b[0m\n\u001b[1;32m    969\u001b[0m \u001b[0;34m\u001b[0m\u001b[0m\n",
            "\u001b[0;31mNotFittedError\u001b[0m: This LinearRegression instance is not fitted yet. Call 'fit' with appropriate arguments before using this estimator."
          ]
        }
      ]
    },
    {
      "cell_type": "code",
      "metadata": {
        "id": "mrbGnFEpG4xr"
      },
      "source": [
        ""
      ],
      "execution_count": null,
      "outputs": []
    },
    {
      "cell_type": "code",
      "metadata": {
        "id": "ZVRfq_TFoSqu"
      },
      "source": [
        "#Create a neural network model\r\n",
        "\r\n",
        "model = Sequential()                                                  # Sequential -> linear stack of layers.\r\n",
        "model.add(Dense(input_dim=1, units=1, kernel_initializer='uniform', activation='linear'))\r\n",
        "                                                                      "
      ],
      "execution_count": null,
      "outputs": []
    },
    {
      "cell_type": "code",
      "metadata": {
        "id": "5xMD48GXyZf9"
      },
      "source": [
        "model.compile(loss='mse', optimizer='sgd')"
      ],
      "execution_count": null,
      "outputs": []
    },
    {
      "cell_type": "code",
      "metadata": {
        "colab": {
          "base_uri": "https://localhost:8080/"
        },
        "id": "Sf6fy-O_ykQM",
        "outputId": "0b97f9de-ae25-4f46-9060-47dde3a07f25"
      },
      "source": [
        "# Print initial weights\r\n",
        "weights = model.layers[0].get_weights()\r\n",
        "w_init = weights[0][0][0]\r\n",
        "b_init = weights[1][0]\r\n",
        "print('Linear regression model is initialized with weight w: %.2f, b: %.2f' % (w_init, b_init))"
      ],
      "execution_count": null,
      "outputs": [
        {
          "output_type": "stream",
          "text": [
            "Linear regression model is initialized with weight w: 0.01, b: 0.00\n"
          ],
          "name": "stdout"
        }
      ]
    },
    {
      "cell_type": "code",
      "metadata": {
        "colab": {
          "base_uri": "https://localhost:8080/",
          "height": 357
        },
        "id": "RndBpuM9ym6D",
        "outputId": "16c76359-a648-4029-c085-34877678e39b"
      },
      "source": [
        "# Train the model\r\n",
        "#X_train, y_train, X_test, y_test= train_test_split(X, y, random_state=None, test_size=0.2, shuffle=True)\r\n",
        "# First way\r\n",
        "#model.fit(X_train, y_train, epochs=100, verbose=1) "
      ],
      "execution_count": null,
      "outputs": [
        {
          "output_type": "error",
          "ename": "ValueError",
          "evalue": "ignored",
          "traceback": [
            "\u001b[0;31m---------------------------------------------------------------------------\u001b[0m",
            "\u001b[0;31mValueError\u001b[0m                                Traceback (most recent call last)",
            "\u001b[0;32m<ipython-input-111-3f649d47b44c>\u001b[0m in \u001b[0;36m<module>\u001b[0;34m()\u001b[0m\n\u001b[1;32m      1\u001b[0m \u001b[0;31m# Train the model\u001b[0m\u001b[0;34m\u001b[0m\u001b[0;34m\u001b[0m\u001b[0;34m\u001b[0m\u001b[0m\n\u001b[0;32m----> 2\u001b[0;31m \u001b[0mX_train\u001b[0m\u001b[0;34m,\u001b[0m \u001b[0my_train\u001b[0m\u001b[0;34m,\u001b[0m \u001b[0mX_test\u001b[0m\u001b[0;34m,\u001b[0m \u001b[0my_test\u001b[0m\u001b[0;34m=\u001b[0m \u001b[0mtrain_test_split\u001b[0m\u001b[0;34m(\u001b[0m\u001b[0mX\u001b[0m\u001b[0;34m,\u001b[0m \u001b[0my\u001b[0m\u001b[0;34m,\u001b[0m \u001b[0mrandom_state\u001b[0m\u001b[0;34m=\u001b[0m\u001b[0;32mNone\u001b[0m\u001b[0;34m,\u001b[0m \u001b[0mtest_size\u001b[0m\u001b[0;34m=\u001b[0m\u001b[0;36m0.2\u001b[0m\u001b[0;34m,\u001b[0m \u001b[0mshuffle\u001b[0m\u001b[0;34m=\u001b[0m\u001b[0;32mTrue\u001b[0m\u001b[0;34m)\u001b[0m\u001b[0;34m\u001b[0m\u001b[0;34m\u001b[0m\u001b[0m\n\u001b[0m\u001b[1;32m      3\u001b[0m \u001b[0;31m# First way\u001b[0m\u001b[0;34m\u001b[0m\u001b[0;34m\u001b[0m\u001b[0;34m\u001b[0m\u001b[0m\n\u001b[1;32m      4\u001b[0m \u001b[0;31m#model.fit(X_train, y_train, epochs=100, verbose=1)\u001b[0m\u001b[0;34m\u001b[0m\u001b[0;34m\u001b[0m\u001b[0;34m\u001b[0m\u001b[0m\n",
            "\u001b[0;32m/usr/local/lib/python3.7/dist-packages/sklearn/model_selection/_split.py\u001b[0m in \u001b[0;36mtrain_test_split\u001b[0;34m(*arrays, **options)\u001b[0m\n\u001b[1;32m   2116\u001b[0m         \u001b[0;32mraise\u001b[0m \u001b[0mTypeError\u001b[0m\u001b[0;34m(\u001b[0m\u001b[0;34m\"Invalid parameters passed: %s\"\u001b[0m \u001b[0;34m%\u001b[0m \u001b[0mstr\u001b[0m\u001b[0;34m(\u001b[0m\u001b[0moptions\u001b[0m\u001b[0;34m)\u001b[0m\u001b[0;34m)\u001b[0m\u001b[0;34m\u001b[0m\u001b[0;34m\u001b[0m\u001b[0m\n\u001b[1;32m   2117\u001b[0m \u001b[0;34m\u001b[0m\u001b[0m\n\u001b[0;32m-> 2118\u001b[0;31m     \u001b[0marrays\u001b[0m \u001b[0;34m=\u001b[0m \u001b[0mindexable\u001b[0m\u001b[0;34m(\u001b[0m\u001b[0;34m*\u001b[0m\u001b[0marrays\u001b[0m\u001b[0;34m)\u001b[0m\u001b[0;34m\u001b[0m\u001b[0;34m\u001b[0m\u001b[0m\n\u001b[0m\u001b[1;32m   2119\u001b[0m \u001b[0;34m\u001b[0m\u001b[0m\n\u001b[1;32m   2120\u001b[0m     \u001b[0mn_samples\u001b[0m \u001b[0;34m=\u001b[0m \u001b[0m_num_samples\u001b[0m\u001b[0;34m(\u001b[0m\u001b[0marrays\u001b[0m\u001b[0;34m[\u001b[0m\u001b[0;36m0\u001b[0m\u001b[0;34m]\u001b[0m\u001b[0;34m)\u001b[0m\u001b[0;34m\u001b[0m\u001b[0;34m\u001b[0m\u001b[0m\n",
            "\u001b[0;32m/usr/local/lib/python3.7/dist-packages/sklearn/utils/validation.py\u001b[0m in \u001b[0;36mindexable\u001b[0;34m(*iterables)\u001b[0m\n\u001b[1;32m    246\u001b[0m     \"\"\"\n\u001b[1;32m    247\u001b[0m     \u001b[0mresult\u001b[0m \u001b[0;34m=\u001b[0m \u001b[0;34m[\u001b[0m\u001b[0m_make_indexable\u001b[0m\u001b[0;34m(\u001b[0m\u001b[0mX\u001b[0m\u001b[0;34m)\u001b[0m \u001b[0;32mfor\u001b[0m \u001b[0mX\u001b[0m \u001b[0;32min\u001b[0m \u001b[0miterables\u001b[0m\u001b[0;34m]\u001b[0m\u001b[0;34m\u001b[0m\u001b[0;34m\u001b[0m\u001b[0m\n\u001b[0;32m--> 248\u001b[0;31m     \u001b[0mcheck_consistent_length\u001b[0m\u001b[0;34m(\u001b[0m\u001b[0;34m*\u001b[0m\u001b[0mresult\u001b[0m\u001b[0;34m)\u001b[0m\u001b[0;34m\u001b[0m\u001b[0;34m\u001b[0m\u001b[0m\n\u001b[0m\u001b[1;32m    249\u001b[0m     \u001b[0;32mreturn\u001b[0m \u001b[0mresult\u001b[0m\u001b[0;34m\u001b[0m\u001b[0;34m\u001b[0m\u001b[0m\n\u001b[1;32m    250\u001b[0m \u001b[0;34m\u001b[0m\u001b[0m\n",
            "\u001b[0;32m/usr/local/lib/python3.7/dist-packages/sklearn/utils/validation.py\u001b[0m in \u001b[0;36mcheck_consistent_length\u001b[0;34m(*arrays)\u001b[0m\n\u001b[1;32m    210\u001b[0m     \u001b[0;32mif\u001b[0m \u001b[0mlen\u001b[0m\u001b[0;34m(\u001b[0m\u001b[0muniques\u001b[0m\u001b[0;34m)\u001b[0m \u001b[0;34m>\u001b[0m \u001b[0;36m1\u001b[0m\u001b[0;34m:\u001b[0m\u001b[0;34m\u001b[0m\u001b[0;34m\u001b[0m\u001b[0m\n\u001b[1;32m    211\u001b[0m         raise ValueError(\"Found input variables with inconsistent numbers of\"\n\u001b[0;32m--> 212\u001b[0;31m                          \" samples: %r\" % [int(l) for l in lengths])\n\u001b[0m\u001b[1;32m    213\u001b[0m \u001b[0;34m\u001b[0m\u001b[0m\n\u001b[1;32m    214\u001b[0m \u001b[0;34m\u001b[0m\u001b[0m\n",
            "\u001b[0;31mValueError\u001b[0m: Found input variables with inconsistent numbers of samples: [11, 16]"
          ]
        }
      ]
    },
    {
      "cell_type": "code",
      "metadata": {
        "colab": {
          "base_uri": "https://localhost:8080/",
          "height": 35
        },
        "id": "MdVnEfFPzxoT",
        "outputId": "6d3e4b89-e7e4-4330-9105-a0fdb0747150"
      },
      "source": [
        "\r\n",
        "# Second way\r\n",
        "for step in range(101):\r\n",
        "    cost = model.train_on_batch(X_train, y_train)\r\n",
        "    if step % 10 == 0:\r\n",
        "        print('train cost: ', cost)"
      ],
      "execution_count": null,
      "outputs": [
        {
          "output_type": "execute_result",
          "data": {
            "application/vnd.google.colaboratory.intrinsic+json": {
              "type": "string"
            },
            "text/plain": [
              "''"
            ]
          },
          "metadata": {
            "tags": []
          },
          "execution_count": 103
        }
      ]
    },
    {
      "cell_type": "code",
      "metadata": {
        "id": "leAILohk0Gdy"
      },
      "source": [
        "print('\\nTesting ------------')\r\n",
        "cost = model.evaluate(X_test, y_test, batch_size=40)\r\n",
        "print('test cost:', cost)\r\n",
        "W, b = model.layers[0].get_weights()\r\n",
        "print('Weights=', W, '\\nbiases=', b)"
      ],
      "execution_count": null,
      "outputs": []
    },
    {
      "cell_type": "code",
      "metadata": {
        "id": "mcJpImbm_N5P"
      },
      "source": [
        "y_pred = model.predict(X_test)\r\n",
        "plt.scatter(X_test, y_test)\r\n",
        "plt.plot(X_test, y_pred)\r\n",
        "plt.plot(X_train, w_init*X_train + b_init, label='initial')\r\n",
        "plt.plot(X_test, w*X_test + b, label='prediction')\r\n",
        "plt.xlabel('X')\r\n",
        "plt.ylabel('Y')\r\n",
        "plt.title(\"Linear Regression\")\r\n",
        "plt.legend()\r\n",
        "plt.show()\r\n",
        "# Bonus points for noticing the tri-colors"
      ],
      "execution_count": null,
      "outputs": []
    }
  ]
}