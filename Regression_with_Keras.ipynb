{
  "nbformat": 4,
  "nbformat_minor": 0,
  "metadata": {
    "kernelspec": {
      "display_name": "Python 3",
      "language": "python",
      "name": "python3"
    },
    "language_info": {
      "codemirror_mode": {
        "name": "ipython",
        "version": 3
      },
      "file_extension": ".py",
      "mimetype": "text/x-python",
      "name": "python",
      "nbconvert_exporter": "python",
      "pygments_lexer": "ipython3",
      "version": "3.8.3"
    },
    "colab": {
      "name": "Regression with Keras.ipynb",
      "provenance": [],
      "include_colab_link": true
    }
  },
  "cells": [
    {
      "cell_type": "markdown",
      "metadata": {
        "id": "view-in-github",
        "colab_type": "text"
      },
      "source": [
        "<a href=\"https://colab.research.google.com/github/samsharm/Python/blob/master/Regression_with_Keras.ipynb\" target=\"_parent\"><img src=\"https://colab.research.google.com/assets/colab-badge.svg\" alt=\"Open In Colab\"/></a>"
      ]
    },
    {
      "cell_type": "code",
      "metadata": {
        "id": "bRaj6ii83lJV"
      },
      "source": [
        "try:\n",
        "    # %tensorflow_version only exists in Colab.\n",
        "    %tensorflow_version 2.x\n",
        "except Exception:\n",
        "    pass"
      ],
      "execution_count": 2,
      "outputs": []
    },
    {
      "cell_type": "code",
      "metadata": {
        "id": "tETnMe9i3lJq"
      },
      "source": [
        "import numpy as np\n",
        "import matplotlib.pyplot as plt\n",
        "%matplotlib inline\n"
      ],
      "execution_count": 3,
      "outputs": []
    },
    {
      "cell_type": "code",
      "metadata": {
        "id": "i-h0xWnF3lJs"
      },
      "source": [
        "from tensorflow.keras.models import Sequential\n",
        "from tensorflow.keras.layers import Dense"
      ],
      "execution_count": 4,
      "outputs": []
    },
    {
      "cell_type": "code",
      "metadata": {
        "id": "yGDcB_HL3lJu"
      },
      "source": [
        "np.random.seed(1337)                                                # just a random number seed for reproducibility\r\n",
        "X = np.linspace(-1, 1, 200)                                         # create 200 x values between [-1,1]\r\n",
        "np.random.shuffle(X)                                                # randomize the data\r\n",
        "y = 2 * X + np.random.randn(*X.shape) * 0.33                        # create 200 y values randomized by the seed"
      ],
      "execution_count": 5,
      "outputs": []
    },
    {
      "cell_type": "code",
      "metadata": {
        "colab": {
          "base_uri": "https://localhost:8080/"
        },
        "id": "opp-GktOB1k2",
        "outputId": "30ea4ccb-e9cb-4f40-d44e-6aca53bc7b81"
      },
      "source": [
        "print (X)\r\n",
        "print (y)"
      ],
      "execution_count": 6,
      "outputs": [
        {
          "output_type": "stream",
          "text": [
            "[-0.70854271  0.1758794  -0.30653266  0.74874372 -0.02512563  0.33668342\n",
            " -0.85929648  0.01507538 -0.13567839  0.72864322  0.24623116 -0.74874372\n",
            " -0.78894472  0.50753769  0.03517588  0.35678392 -0.55778894  0.2361809\n",
            " -0.25628141 -0.44723618  0.2160804  -0.43718593 -0.64824121  0.69849246\n",
            " -0.03517588 -0.45728643  0.86934673  0.73869347  0.53768844 -0.67839196\n",
            " -0.75879397  0.55778894  0.28643216 -0.05527638 -0.86934673  0.1959799\n",
            " -0.57788945 -0.9798995  -0.6080402  -0.63819095  0.84924623  0.41708543\n",
            "  0.13567839  0.79899497 -0.47738693  0.46733668  0.59798995 -0.80904523\n",
            " -0.98994975 -0.36683417 -0.5678392  -0.00502513 -0.53768844 -0.37688442\n",
            " -0.65829146 -0.1959799   0.06532663  0.44723618 -0.01507538 -0.6281407\n",
            "  0.02512563 -0.71859296 -0.14572864 -0.46733668  0.07537688  0.85929648\n",
            "  0.76884422  0.40703518 -0.68844221  0.68844221 -0.29648241  0.66834171\n",
            " -0.95979899 -0.33668342  0.26633166 -0.82914573  1.         -0.5879397\n",
            " -0.69849246 -0.20603015  0.63819095 -0.88944724 -0.40703518 -0.32663317\n",
            "  0.15577889 -0.41708543  0.10552764  0.20603015 -0.04522613  0.00502513\n",
            " -0.31658291  0.43718593  0.42713568  0.45728643 -0.59798995 -0.66834171\n",
            "  0.83919598  0.75879397 -0.24623116  0.71859296 -0.92964824  0.39698492\n",
            "  0.61809045 -0.84924623 -0.87939698 -0.96984925  0.87939698  0.6281407\n",
            "  0.25628141  0.27638191  0.12562814  0.09547739 -0.89949749  0.80904523\n",
            " -0.16582915 -0.12562814  0.30653266  0.49748744  0.5879397  -0.51758794\n",
            " -0.10552764  0.54773869 -0.94974874  0.92964824  0.16582915 -0.83919598\n",
            " -0.35678392 -0.48743719  0.08542714 -0.61809045  0.18592965  0.57788945\n",
            "  0.65829146  0.38693467  0.91959799 -0.26633166 -0.50753769 -1.\n",
            " -0.54773869  0.6080402  -0.49748744 -0.22613065  0.9798995   0.98994975\n",
            "  0.5678392   0.32663317  0.64824121 -0.52763819  0.36683417  0.81909548\n",
            " -0.11557789  0.31658291 -0.2160804   0.95979899  0.77889447 -0.73869347\n",
            " -0.81909548 -0.79899497  0.78894472  0.88944724 -0.2361809   0.37688442\n",
            "  0.70854271  0.22613065 -0.28643216 -0.38693467  0.90954774 -0.91959799\n",
            "  0.48743719 -0.42713568 -0.08542714  0.11557789 -0.18592965  0.47738693\n",
            " -0.39698492 -0.34673367  0.04522613  0.05527638  0.93969849 -0.77889447\n",
            " -0.93969849 -0.06532663 -0.72864322  0.29648241  0.52763819 -0.76884422\n",
            "  0.94974874  0.82914573  0.34673367 -0.90954774 -0.27638191 -0.15577889\n",
            " -0.1758794   0.14572864 -0.09547739  0.96984925  0.67839196 -0.07537688\n",
            "  0.89949749  0.51758794]\n",
            "[-1.26667490e+00  5.77942023e-01 -1.55123929e-01  1.59928984e+00\n",
            " -2.00100952e-01  3.32048967e-01 -1.64058972e+00  3.31961408e-01\n",
            " -9.51834442e-02  1.87621475e+00  5.73848941e-01 -1.09029157e+00\n",
            " -1.19301179e+00  1.12408396e+00  1.62104452e-01  5.24113420e-01\n",
            " -8.29669672e-01  4.05935520e-01 -1.11044383e-01 -6.10797904e-01\n",
            "  7.21651864e-01 -4.91526239e-01 -1.04493944e+00  5.32116428e-01\n",
            " -9.16767936e-02 -7.39938986e-01  1.75045796e+00  1.09963773e+00\n",
            "  7.37452293e-01 -9.71843722e-01 -1.37074209e+00  1.03297246e+00\n",
            "  3.58986093e-01  6.88177327e-01 -1.76450828e+00  1.04249209e+00\n",
            " -1.04230874e+00 -1.60079947e+00 -1.01312481e+00 -1.32782460e+00\n",
            "  1.52393413e+00  2.90978696e-01  3.37833061e-01  1.63533901e+00\n",
            " -6.53105341e-01  4.51768195e-01  1.22728684e+00 -1.74291106e+00\n",
            " -1.84924416e+00 -1.08101588e+00 -7.93836484e-01  8.60304059e-02\n",
            " -9.59081885e-01 -3.84472824e-01 -1.28862169e+00 -1.31057179e-02\n",
            " -1.11188736e-03  1.50252706e+00  3.27964689e-01 -9.15113317e-01\n",
            " -2.14189997e-01 -1.35881182e+00  8.62114554e-02 -1.09567311e+00\n",
            "  2.50022568e-01  1.63468609e+00  1.48275678e+00  1.10019598e+00\n",
            " -1.62685861e+00  1.58713100e+00 -7.57866575e-01  1.07899088e+00\n",
            " -1.87035391e+00 -9.21620210e-01  2.02492858e-01 -2.08398837e+00\n",
            "  1.87025160e+00 -6.73246183e-01 -1.70707640e+00 -8.97349406e-01\n",
            "  7.43800488e-01 -2.13221960e+00 -4.52412530e-01 -7.87964016e-02\n",
            " -5.03890858e-01 -6.81367572e-01 -3.67301289e-01 -1.17688533e-01\n",
            " -1.01938177e-01  6.46469125e-01  1.07430091e-01  8.11041793e-01\n",
            "  1.16562204e+00  1.03856426e+00 -8.10824198e-01 -1.16754643e+00\n",
            "  1.99797404e+00  1.71551020e+00  2.12459439e-01  1.54143442e+00\n",
            " -1.89173911e+00  1.08811071e+00  1.39491352e+00 -2.20166375e+00\n",
            " -2.23974559e+00 -1.77021182e+00  1.04336802e+00  1.65597541e+00\n",
            "  9.46406580e-01  1.02476331e+00  1.48147245e-01  1.46817864e-01\n",
            " -2.23554011e+00  1.23937566e+00 -1.10358434e-01 -5.31449243e-01\n",
            "  1.35686188e+00  8.33685741e-01  1.21468725e+00 -7.16652838e-01\n",
            " -7.87110134e-01  1.37939580e+00 -1.83978190e+00  1.41676997e+00\n",
            "  6.32772436e-01 -2.35841565e+00 -1.84285759e-01 -1.14261824e+00\n",
            "  1.37922279e-01 -1.35841068e+00  4.25929806e-01  1.02708808e+00\n",
            "  1.61294182e+00  9.51778814e-01  2.07022308e+00 -9.63626919e-01\n",
            " -1.18364617e+00 -2.34125012e+00 -7.61181498e-01  8.12819225e-01\n",
            " -1.09847111e+00 -1.07554751e+00  2.19643624e+00  1.80258966e+00\n",
            "  1.51975033e+00  1.03691843e+00  1.26566779e+00 -1.10833758e+00\n",
            "  6.66157191e-01  1.81019738e+00 -7.25310612e-02  5.33521629e-01\n",
            " -8.31150454e-01  1.97339716e+00  8.60180861e-01 -1.43908107e+00\n",
            " -1.71366452e+00 -1.53254427e+00  1.67276245e+00  1.30813427e+00\n",
            " -3.04862932e-01  1.08367524e-01  1.51011628e+00  6.24474120e-02\n",
            " -4.35194108e-01 -5.82836005e-01  1.79187554e+00 -2.34708769e+00\n",
            "  9.70078218e-01 -1.03174981e+00 -6.53678266e-02  4.02806377e-01\n",
            "  5.46370859e-01  1.46578703e+00 -7.06855334e-01 -7.44782781e-01\n",
            "  6.90284328e-01  2.89669189e-01  1.39345334e+00 -1.54288623e+00\n",
            " -1.62202994e+00 -1.16532689e-01 -1.91417937e+00  1.42744785e-01\n",
            "  7.56405963e-01 -2.03127967e+00  1.56272467e+00  1.64120717e+00\n",
            " -7.43781851e-02 -1.77820117e+00 -7.36524132e-01 -2.82675490e-01\n",
            " -3.36648086e-01 -6.03918015e-01 -3.51461685e-01  1.55731376e+00\n",
            "  1.08957785e+00  3.13547445e-01  1.62992705e+00  1.19405341e+00]\n"
          ],
          "name": "stdout"
        }
      ]
    },
    {
      "cell_type": "code",
      "metadata": {
        "colab": {
          "base_uri": "https://localhost:8080/",
          "height": 279
        },
        "id": "hVrqYJ2_CDWd",
        "outputId": "ca1c4e26-0270-4d60-ce7c-6231a0cbb515"
      },
      "source": [
        "plt.scatter(X, y)\r\n",
        "plt.xlabel('X')\r\n",
        "plt.ylabel('Y')\r\n",
        "plt.show()"
      ],
      "execution_count": 7,
      "outputs": [
        {
          "output_type": "display_data",
          "data": {
            "image/png": "[encoded data removed]",
            "text/plain": [
              "<Figure size 432x288 with 1 Axes>"
            ]
          },
          "metadata": {
            "tags": [],
            "needs_background": "light"
          }
        }
      ]
    },
    {
      "cell_type": "code",
      "metadata": {
        "id": "qnZZJ5n0C46F"
      },
      "source": [
        "# train test split\r\n",
        "X_train, y_train = X[:160], y[:160]     #split train:test in 160:40\r\n",
        "X_test, y_test = X[160:], y[160:] "
      ],
      "execution_count": 8,
      "outputs": []
    },
    {
      "cell_type": "code",
      "metadata": {
        "id": "tzc9UCzgDD_A"
      },
      "source": [
        "model = Sequential()\r\n",
        "model.add(Dense(input_dim=1, units=1, kernel_initializer='uniform', activation='linear'))"
      ],
      "execution_count": 9,
      "outputs": []
    },
    {
      "cell_type": "code",
      "metadata": {
        "id": "81HUnQmiDNoD"
      },
      "source": [
        "model.compile(loss='mse', optimizer='sgd')  #MEan Square Error and Stochastic Gradient Descent"
      ],
      "execution_count": 10,
      "outputs": []
    },
    {
      "cell_type": "code",
      "metadata": {
        "colab": {
          "base_uri": "https://localhost:8080/"
        },
        "id": "LID72PqUDXMS",
        "outputId": "2ef1cdcb-8be9-438d-a4e9-a9ee6422318a"
      },
      "source": [
        "weights = model.layers[0].get_weights()\r\n",
        "w_init = weights[0][0][0]\r\n",
        "b_init = weights[1][0]\r\n",
        "print('Linear regression model is initialized with weight w: %.2f, b: %.2f' % (w_init, b_init))"
      ],
      "execution_count": 11,
      "outputs": [
        {
          "output_type": "stream",
          "text": [
            "Linear regression model is initialized with weight w: 0.01, b: 0.00\n"
          ],
          "name": "stdout"
        }
      ]
    },
    {
      "cell_type": "code",
      "metadata": {
        "colab": {
          "base_uri": "https://localhost:8080/"
        },
        "id": "Esh3r6JyDv5H",
        "outputId": "2b697b37-0638-402d-a0d2-36ca229bd1e5"
      },
      "source": [
        "#Train the model now\r\n",
        "# First way\r\n",
        "model.fit(X_train, y_train, epochs=100, verbose=1) "
      ],
      "execution_count": 12,
      "outputs": [
        {
          "output_type": "stream",
          "text": [
            "Epoch 1/100\n",
            "5/5 [==============================] - 0s 2ms/step - loss: 1.3814\n",
            "Epoch 2/100\n",
            "5/5 [==============================] - 0s 2ms/step - loss: 1.2815\n",
            "Epoch 3/100\n",
            "5/5 [==============================] - 0s 2ms/step - loss: 1.2353\n",
            "Epoch 4/100\n",
            "5/5 [==============================] - 0s 2ms/step - loss: 1.1615\n",
            "Epoch 5/100\n",
            "5/5 [==============================] - 0s 2ms/step - loss: 1.0088\n",
            "Epoch 6/100\n",
            "5/5 [==============================] - 0s 2ms/step - loss: 0.9219\n",
            "Epoch 7/100\n",
            "5/5 [==============================] - 0s 1ms/step - loss: 0.9677\n",
            "Epoch 8/100\n",
            "5/5 [==============================] - 0s 2ms/step - loss: 0.8146\n",
            "Epoch 9/100\n",
            "5/5 [==============================] - 0s 1ms/step - loss: 0.8599\n",
            "Epoch 10/100\n",
            "5/5 [==============================] - 0s 1ms/step - loss: 0.7899\n",
            "Epoch 11/100\n",
            "5/5 [==============================] - 0s 2ms/step - loss: 0.7177\n",
            "Epoch 12/100\n",
            "5/5 [==============================] - 0s 1ms/step - loss: 0.6916\n",
            "Epoch 13/100\n",
            "5/5 [==============================] - 0s 1ms/step - loss: 0.6677\n",
            "Epoch 14/100\n",
            "5/5 [==============================] - 0s 2ms/step - loss: 0.7051\n",
            "Epoch 15/100\n",
            "5/5 [==============================] - 0s 2ms/step - loss: 0.6241\n",
            "Epoch 16/100\n",
            "5/5 [==============================] - 0s 2ms/step - loss: 0.6298\n",
            "Epoch 17/100\n",
            "5/5 [==============================] - 0s 2ms/step - loss: 0.5362\n",
            "Epoch 18/100\n",
            "5/5 [==============================] - 0s 2ms/step - loss: 0.5095\n",
            "Epoch 19/100\n",
            "5/5 [==============================] - 0s 2ms/step - loss: 0.4593\n",
            "Epoch 20/100\n",
            "5/5 [==============================] - 0s 1ms/step - loss: 0.4659\n",
            "Epoch 21/100\n",
            "5/5 [==============================] - 0s 2ms/step - loss: 0.4302\n",
            "Epoch 22/100\n",
            "5/5 [==============================] - 0s 2ms/step - loss: 0.4037\n",
            "Epoch 23/100\n",
            "5/5 [==============================] - 0s 1ms/step - loss: 0.4105\n",
            "Epoch 24/100\n",
            "5/5 [==============================] - 0s 2ms/step - loss: 0.3763\n",
            "Epoch 25/100\n",
            "5/5 [==============================] - 0s 2ms/step - loss: 0.3940\n",
            "Epoch 26/100\n",
            "5/5 [==============================] - 0s 1ms/step - loss: 0.3465\n",
            "Epoch 27/100\n",
            "5/5 [==============================] - 0s 2ms/step - loss: 0.3031\n",
            "Epoch 28/100\n",
            "5/5 [==============================] - 0s 2ms/step - loss: 0.3130\n",
            "Epoch 29/100\n",
            "5/5 [==============================] - 0s 1ms/step - loss: 0.3187\n",
            "Epoch 30/100\n",
            "5/5 [==============================] - 0s 1ms/step - loss: 0.3021\n",
            "Epoch 31/100\n",
            "5/5 [==============================] - 0s 1ms/step - loss: 0.2575\n",
            "Epoch 32/100\n",
            "5/5 [==============================] - 0s 2ms/step - loss: 0.2625\n",
            "Epoch 33/100\n",
            "5/5 [==============================] - 0s 3ms/step - loss: 0.2467\n",
            "Epoch 34/100\n",
            "5/5 [==============================] - 0s 7ms/step - loss: 0.2427\n",
            "Epoch 35/100\n",
            "5/5 [==============================] - 0s 2ms/step - loss: 0.2293\n",
            "Epoch 36/100\n",
            "5/5 [==============================] - 0s 2ms/step - loss: 0.2063\n",
            "Epoch 37/100\n",
            "5/5 [==============================] - 0s 2ms/step - loss: 0.2301\n",
            "Epoch 38/100\n",
            "5/5 [==============================] - 0s 2ms/step - loss: 0.2153\n",
            "Epoch 39/100\n",
            "5/5 [==============================] - 0s 2ms/step - loss: 0.2163\n",
            "Epoch 40/100\n",
            "5/5 [==============================] - 0s 2ms/step - loss: 0.2112\n",
            "Epoch 41/100\n",
            "5/5 [==============================] - 0s 2ms/step - loss: 0.1905\n",
            "Epoch 42/100\n",
            "5/5 [==============================] - 0s 2ms/step - loss: 0.1955\n",
            "Epoch 43/100\n",
            "5/5 [==============================] - 0s 2ms/step - loss: 0.1759\n",
            "Epoch 44/100\n",
            "5/5 [==============================] - 0s 2ms/step - loss: 0.1713\n",
            "Epoch 45/100\n",
            "5/5 [==============================] - 0s 2ms/step - loss: 0.1792\n",
            "Epoch 46/100\n",
            "5/5 [==============================] - 0s 2ms/step - loss: 0.1723\n",
            "Epoch 47/100\n",
            "5/5 [==============================] - 0s 3ms/step - loss: 0.1524\n",
            "Epoch 48/100\n",
            "5/5 [==============================] - 0s 2ms/step - loss: 0.1756\n",
            "Epoch 49/100\n",
            "5/5 [==============================] - 0s 1ms/step - loss: 0.1584\n",
            "Epoch 50/100\n",
            "5/5 [==============================] - 0s 2ms/step - loss: 0.1529\n",
            "Epoch 51/100\n",
            "5/5 [==============================] - 0s 1ms/step - loss: 0.1608\n",
            "Epoch 52/100\n",
            "5/5 [==============================] - 0s 2ms/step - loss: 0.1627\n",
            "Epoch 53/100\n",
            "5/5 [==============================] - 0s 2ms/step - loss: 0.1474\n",
            "Epoch 54/100\n",
            "5/5 [==============================] - 0s 3ms/step - loss: 0.1621\n",
            "Epoch 55/100\n",
            "5/5 [==============================] - 0s 4ms/step - loss: 0.1524\n",
            "Epoch 56/100\n",
            "5/5 [==============================] - 0s 2ms/step - loss: 0.1381\n",
            "Epoch 57/100\n",
            "5/5 [==============================] - 0s 3ms/step - loss: 0.1314\n",
            "Epoch 58/100\n",
            "5/5 [==============================] - 0s 2ms/step - loss: 0.1367\n",
            "Epoch 59/100\n",
            "5/5 [==============================] - 0s 2ms/step - loss: 0.1427\n",
            "Epoch 60/100\n",
            "5/5 [==============================] - 0s 2ms/step - loss: 0.1207\n",
            "Epoch 61/100\n",
            "5/5 [==============================] - 0s 4ms/step - loss: 0.1351\n",
            "Epoch 62/100\n",
            "5/5 [==============================] - 0s 2ms/step - loss: 0.1284\n",
            "Epoch 63/100\n",
            "5/5 [==============================] - 0s 2ms/step - loss: 0.1248\n",
            "Epoch 64/100\n",
            "5/5 [==============================] - 0s 2ms/step - loss: 0.1326\n",
            "Epoch 65/100\n",
            "5/5 [==============================] - 0s 2ms/step - loss: 0.1478\n",
            "Epoch 66/100\n",
            "5/5 [==============================] - 0s 2ms/step - loss: 0.1177\n",
            "Epoch 67/100\n",
            "5/5 [==============================] - 0s 2ms/step - loss: 0.1309\n",
            "Epoch 68/100\n",
            "5/5 [==============================] - 0s 2ms/step - loss: 0.1330\n",
            "Epoch 69/100\n",
            "5/5 [==============================] - 0s 2ms/step - loss: 0.1188\n",
            "Epoch 70/100\n",
            "5/5 [==============================] - 0s 2ms/step - loss: 0.1126\n",
            "Epoch 71/100\n",
            "5/5 [==============================] - 0s 2ms/step - loss: 0.1213\n",
            "Epoch 72/100\n",
            "5/5 [==============================] - 0s 1ms/step - loss: 0.1221\n",
            "Epoch 73/100\n",
            "5/5 [==============================] - 0s 2ms/step - loss: 0.1240\n",
            "Epoch 74/100\n",
            "5/5 [==============================] - 0s 2ms/step - loss: 0.1107\n",
            "Epoch 75/100\n",
            "5/5 [==============================] - 0s 3ms/step - loss: 0.1112\n",
            "Epoch 76/100\n",
            "5/5 [==============================] - 0s 2ms/step - loss: 0.1279\n",
            "Epoch 77/100\n",
            "5/5 [==============================] - 0s 2ms/step - loss: 0.1064\n",
            "Epoch 78/100\n",
            "5/5 [==============================] - 0s 2ms/step - loss: 0.1247\n",
            "Epoch 79/100\n",
            "5/5 [==============================] - 0s 2ms/step - loss: 0.1146\n",
            "Epoch 80/100\n",
            "5/5 [==============================] - 0s 2ms/step - loss: 0.1200\n",
            "Epoch 81/100\n",
            "5/5 [==============================] - 0s 2ms/step - loss: 0.1167\n",
            "Epoch 82/100\n",
            "5/5 [==============================] - 0s 2ms/step - loss: 0.1091\n",
            "Epoch 83/100\n",
            "5/5 [==============================] - 0s 2ms/step - loss: 0.1122\n",
            "Epoch 84/100\n",
            "5/5 [==============================] - 0s 2ms/step - loss: 0.1212\n",
            "Epoch 85/100\n",
            "5/5 [==============================] - 0s 2ms/step - loss: 0.1085\n",
            "Epoch 86/100\n",
            "5/5 [==============================] - 0s 2ms/step - loss: 0.1264\n",
            "Epoch 87/100\n",
            "5/5 [==============================] - 0s 2ms/step - loss: 0.1255\n",
            "Epoch 88/100\n",
            "5/5 [==============================] - 0s 2ms/step - loss: 0.1164\n",
            "Epoch 89/100\n",
            "5/5 [==============================] - 0s 2ms/step - loss: 0.1177\n",
            "Epoch 90/100\n",
            "5/5 [==============================] - 0s 2ms/step - loss: 0.1231\n",
            "Epoch 91/100\n",
            "5/5 [==============================] - 0s 2ms/step - loss: 0.1108\n",
            "Epoch 92/100\n",
            "5/5 [==============================] - 0s 2ms/step - loss: 0.1019\n",
            "Epoch 93/100\n",
            "5/5 [==============================] - 0s 2ms/step - loss: 0.1142\n",
            "Epoch 94/100\n",
            "5/5 [==============================] - 0s 2ms/step - loss: 0.1126\n",
            "Epoch 95/100\n",
            "5/5 [==============================] - 0s 2ms/step - loss: 0.1134\n",
            "Epoch 96/100\n",
            "5/5 [==============================] - 0s 2ms/step - loss: 0.1088\n",
            "Epoch 97/100\n",
            "5/5 [==============================] - 0s 2ms/step - loss: 0.1219\n",
            "Epoch 98/100\n",
            "5/5 [==============================] - 0s 2ms/step - loss: 0.1375\n",
            "Epoch 99/100\n",
            "5/5 [==============================] - 0s 2ms/step - loss: 0.1088\n",
            "Epoch 100/100\n",
            "5/5 [==============================] - 0s 3ms/step - loss: 0.1103\n"
          ],
          "name": "stdout"
        },
        {
          "output_type": "execute_result",
          "data": {
            "text/plain": [
              "<tensorflow.python.keras.callbacks.History at 0x7fdd73e57610>"
            ]
          },
          "metadata": {
            "tags": []
          },
          "execution_count": 12
        }
      ]
    },
    {
      "cell_type": "code",
      "metadata": {
        "colab": {
          "base_uri": "https://localhost:8080/"
        },
        "id": "cIQTZ8_nD371",
        "outputId": "2ab302a6-aee5-4d72-f3c4-b972579f5935"
      },
      "source": [
        "# Second way\r\n",
        "for step in range(101):\r\n",
        "    cost = model.train_on_batch(X_train, y_train)\r\n",
        "    if step % 10 == 0:\r\n",
        "        print('train cost: ', cost)"
      ],
      "execution_count": 13,
      "outputs": [
        {
          "output_type": "stream",
          "text": [
            "train cost:  0.11561539024114609\n",
            "train cost:  0.11536522209644318\n",
            "train cost:  0.11521470546722412\n",
            "train cost:  0.1150834783911705\n",
            "train cost:  0.11496905982494354\n",
            "train cost:  0.11486927419900894\n",
            "train cost:  0.11478225886821747\n",
            "train cost:  0.1147063747048378\n",
            "train cost:  0.11464021354913712\n",
            "train cost:  0.11458253860473633\n",
            "train cost:  0.1145322173833847\n"
          ],
          "name": "stdout"
        }
      ]
    },
    {
      "cell_type": "code",
      "metadata": {
        "colab": {
          "base_uri": "https://localhost:8080/"
        },
        "id": "pk30LCKwEX6s",
        "outputId": "ee982c0c-ea08-4a63-d599-63695e46965c"
      },
      "source": [
        "#Evaluate the model now\r\n",
        "print('\\nTesting ------------')\r\n",
        "cost = model.evaluate(X_test, y_test, batch_size=40)\r\n",
        "print('test cost:', cost)\r\n",
        "W, b = model.layers[0].get_weights()\r\n",
        "print('Weights=', W, '\\nbiases=', b)"
      ],
      "execution_count": 17,
      "outputs": [
        {
          "output_type": "stream",
          "text": [
            "\n",
            "Testing ------------\n",
            "1/1 [==============================] - 0s 12ms/step - loss: 0.1404\n",
            "test cost: 0.1403825283050537\n",
            "Weights= [[1.9114959]] \n",
            "biases= [0.02608185]\n"
          ],
          "name": "stdout"
        }
      ]
    },
    {
      "cell_type": "code",
      "metadata": {
        "colab": {
          "base_uri": "https://localhost:8080/",
          "height": 622
        },
        "id": "DDOLe142EpFS",
        "outputId": "4bda02e7-6d2e-4020-a698-21d2762df238"
      },
      "source": [
        "#Plotting the prediction\r\n",
        "y_pred = model.predict(X_test)\r\n",
        "plt.scatter(X_test, y_test)\r\n",
        "plt.plot(X_test, y_pred)\r\n",
        "plt.plot(X_train, w_init*X_train + b_init, label='initial')\r\n",
        "plt.plot(X_test, W*X_test + b, label='prediction')\r\n",
        "plt.xlabel('X')\r\n",
        "plt.ylabel('Y')\r\n",
        "plt.title(\"Linear Regression\")\r\n",
        "plt.legend()\r\n",
        "plt.show()"
      ],
      "execution_count": 19,
      "outputs": [
        {
          "output_type": "error",
          "ename": "ValueError",
          "evalue": "ignored",
          "traceback": [
            "\u001b[0;31m---------------------------------------------------------------------------\u001b[0m",
            "\u001b[0;31mValueError\u001b[0m                                Traceback (most recent call last)",
            "\u001b[0;32m<ipython-input-19-96ab73bf2ae8>\u001b[0m in \u001b[0;36m<module>\u001b[0;34m()\u001b[0m\n\u001b[1;32m      4\u001b[0m \u001b[0mplt\u001b[0m\u001b[0;34m.\u001b[0m\u001b[0mplot\u001b[0m\u001b[0;34m(\u001b[0m\u001b[0mX_test\u001b[0m\u001b[0;34m,\u001b[0m \u001b[0my_pred\u001b[0m\u001b[0;34m)\u001b[0m\u001b[0;34m\u001b[0m\u001b[0;34m\u001b[0m\u001b[0m\n\u001b[1;32m      5\u001b[0m \u001b[0mplt\u001b[0m\u001b[0;34m.\u001b[0m\u001b[0mplot\u001b[0m\u001b[0;34m(\u001b[0m\u001b[0mX_train\u001b[0m\u001b[0;34m,\u001b[0m \u001b[0mw_init\u001b[0m\u001b[0;34m*\u001b[0m\u001b[0mX_train\u001b[0m \u001b[0;34m+\u001b[0m \u001b[0mb_init\u001b[0m\u001b[0;34m,\u001b[0m \u001b[0mlabel\u001b[0m\u001b[0;34m=\u001b[0m\u001b[0;34m'initial'\u001b[0m\u001b[0;34m)\u001b[0m\u001b[0;34m\u001b[0m\u001b[0;34m\u001b[0m\u001b[0m\n\u001b[0;32m----> 6\u001b[0;31m \u001b[0mplt\u001b[0m\u001b[0;34m.\u001b[0m\u001b[0mplot\u001b[0m\u001b[0;34m(\u001b[0m\u001b[0mX_test\u001b[0m\u001b[0;34m,\u001b[0m \u001b[0mW\u001b[0m\u001b[0;34m*\u001b[0m\u001b[0mX_test\u001b[0m \u001b[0;34m+\u001b[0m \u001b[0mb\u001b[0m\u001b[0;34m,\u001b[0m \u001b[0mlabel\u001b[0m\u001b[0;34m=\u001b[0m\u001b[0;34m'prediction'\u001b[0m\u001b[0;34m)\u001b[0m\u001b[0;34m\u001b[0m\u001b[0;34m\u001b[0m\u001b[0m\n\u001b[0m\u001b[1;32m      7\u001b[0m \u001b[0mplt\u001b[0m\u001b[0;34m.\u001b[0m\u001b[0mxlabel\u001b[0m\u001b[0;34m(\u001b[0m\u001b[0;34m'X'\u001b[0m\u001b[0;34m)\u001b[0m\u001b[0;34m\u001b[0m\u001b[0;34m\u001b[0m\u001b[0m\n\u001b[1;32m      8\u001b[0m \u001b[0mplt\u001b[0m\u001b[0;34m.\u001b[0m\u001b[0mylabel\u001b[0m\u001b[0;34m(\u001b[0m\u001b[0;34m'Y'\u001b[0m\u001b[0;34m)\u001b[0m\u001b[0;34m\u001b[0m\u001b[0;34m\u001b[0m\u001b[0m\n",
            "\u001b[0;32m/usr/local/lib/python3.7/dist-packages/matplotlib/pyplot.py\u001b[0m in \u001b[0;36mplot\u001b[0;34m(scalex, scaley, data, *args, **kwargs)\u001b[0m\n\u001b[1;32m   2761\u001b[0m     return gca().plot(\n\u001b[1;32m   2762\u001b[0m         *args, scalex=scalex, scaley=scaley, **({\"data\": data} if data\n\u001b[0;32m-> 2763\u001b[0;31m         is not None else {}), **kwargs)\n\u001b[0m\u001b[1;32m   2764\u001b[0m \u001b[0;34m\u001b[0m\u001b[0m\n\u001b[1;32m   2765\u001b[0m \u001b[0;34m\u001b[0m\u001b[0m\n",
            "\u001b[0;32m/usr/local/lib/python3.7/dist-packages/matplotlib/axes/_axes.py\u001b[0m in \u001b[0;36mplot\u001b[0;34m(self, scalex, scaley, data, *args, **kwargs)\u001b[0m\n\u001b[1;32m   1645\u001b[0m         \"\"\"\n\u001b[1;32m   1646\u001b[0m         \u001b[0mkwargs\u001b[0m \u001b[0;34m=\u001b[0m \u001b[0mcbook\u001b[0m\u001b[0;34m.\u001b[0m\u001b[0mnormalize_kwargs\u001b[0m\u001b[0;34m(\u001b[0m\u001b[0mkwargs\u001b[0m\u001b[0;34m,\u001b[0m \u001b[0mmlines\u001b[0m\u001b[0;34m.\u001b[0m\u001b[0mLine2D\u001b[0m\u001b[0;34m)\u001b[0m\u001b[0;34m\u001b[0m\u001b[0;34m\u001b[0m\u001b[0m\n\u001b[0;32m-> 1647\u001b[0;31m         \u001b[0mlines\u001b[0m \u001b[0;34m=\u001b[0m \u001b[0;34m[\u001b[0m\u001b[0;34m*\u001b[0m\u001b[0mself\u001b[0m\u001b[0;34m.\u001b[0m\u001b[0m_get_lines\u001b[0m\u001b[0;34m(\u001b[0m\u001b[0;34m*\u001b[0m\u001b[0margs\u001b[0m\u001b[0;34m,\u001b[0m \u001b[0mdata\u001b[0m\u001b[0;34m=\u001b[0m\u001b[0mdata\u001b[0m\u001b[0;34m,\u001b[0m \u001b[0;34m**\u001b[0m\u001b[0mkwargs\u001b[0m\u001b[0;34m)\u001b[0m\u001b[0;34m]\u001b[0m\u001b[0;34m\u001b[0m\u001b[0;34m\u001b[0m\u001b[0m\n\u001b[0m\u001b[1;32m   1648\u001b[0m         \u001b[0;32mfor\u001b[0m \u001b[0mline\u001b[0m \u001b[0;32min\u001b[0m \u001b[0mlines\u001b[0m\u001b[0;34m:\u001b[0m\u001b[0;34m\u001b[0m\u001b[0;34m\u001b[0m\u001b[0m\n\u001b[1;32m   1649\u001b[0m             \u001b[0mself\u001b[0m\u001b[0;34m.\u001b[0m\u001b[0madd_line\u001b[0m\u001b[0;34m(\u001b[0m\u001b[0mline\u001b[0m\u001b[0;34m)\u001b[0m\u001b[0;34m\u001b[0m\u001b[0;34m\u001b[0m\u001b[0m\n",
            "\u001b[0;32m/usr/local/lib/python3.7/dist-packages/matplotlib/axes/_base.py\u001b[0m in \u001b[0;36m__call__\u001b[0;34m(self, *args, **kwargs)\u001b[0m\n\u001b[1;32m    214\u001b[0m                 \u001b[0mthis\u001b[0m \u001b[0;34m+=\u001b[0m \u001b[0margs\u001b[0m\u001b[0;34m[\u001b[0m\u001b[0;36m0\u001b[0m\u001b[0;34m]\u001b[0m\u001b[0;34m,\u001b[0m\u001b[0;34m\u001b[0m\u001b[0;34m\u001b[0m\u001b[0m\n\u001b[1;32m    215\u001b[0m                 \u001b[0margs\u001b[0m \u001b[0;34m=\u001b[0m \u001b[0margs\u001b[0m\u001b[0;34m[\u001b[0m\u001b[0;36m1\u001b[0m\u001b[0;34m:\u001b[0m\u001b[0;34m]\u001b[0m\u001b[0;34m\u001b[0m\u001b[0;34m\u001b[0m\u001b[0m\n\u001b[0;32m--> 216\u001b[0;31m             \u001b[0;32myield\u001b[0m \u001b[0;32mfrom\u001b[0m \u001b[0mself\u001b[0m\u001b[0;34m.\u001b[0m\u001b[0m_plot_args\u001b[0m\u001b[0;34m(\u001b[0m\u001b[0mthis\u001b[0m\u001b[0;34m,\u001b[0m \u001b[0mkwargs\u001b[0m\u001b[0;34m)\u001b[0m\u001b[0;34m\u001b[0m\u001b[0;34m\u001b[0m\u001b[0m\n\u001b[0m\u001b[1;32m    217\u001b[0m \u001b[0;34m\u001b[0m\u001b[0m\n\u001b[1;32m    218\u001b[0m     \u001b[0;32mdef\u001b[0m \u001b[0mget_next_color\u001b[0m\u001b[0;34m(\u001b[0m\u001b[0mself\u001b[0m\u001b[0;34m)\u001b[0m\u001b[0;34m:\u001b[0m\u001b[0;34m\u001b[0m\u001b[0;34m\u001b[0m\u001b[0m\n",
            "\u001b[0;32m/usr/local/lib/python3.7/dist-packages/matplotlib/axes/_base.py\u001b[0m in \u001b[0;36m_plot_args\u001b[0;34m(self, tup, kwargs)\u001b[0m\n\u001b[1;32m    340\u001b[0m \u001b[0;34m\u001b[0m\u001b[0m\n\u001b[1;32m    341\u001b[0m         \u001b[0;32mif\u001b[0m \u001b[0mx\u001b[0m\u001b[0;34m.\u001b[0m\u001b[0mshape\u001b[0m\u001b[0;34m[\u001b[0m\u001b[0;36m0\u001b[0m\u001b[0;34m]\u001b[0m \u001b[0;34m!=\u001b[0m \u001b[0my\u001b[0m\u001b[0;34m.\u001b[0m\u001b[0mshape\u001b[0m\u001b[0;34m[\u001b[0m\u001b[0;36m0\u001b[0m\u001b[0;34m]\u001b[0m\u001b[0;34m:\u001b[0m\u001b[0;34m\u001b[0m\u001b[0;34m\u001b[0m\u001b[0m\n\u001b[0;32m--> 342\u001b[0;31m             raise ValueError(f\"x and y must have same first dimension, but \"\n\u001b[0m\u001b[1;32m    343\u001b[0m                              f\"have shapes {x.shape} and {y.shape}\")\n\u001b[1;32m    344\u001b[0m         \u001b[0;32mif\u001b[0m \u001b[0mx\u001b[0m\u001b[0;34m.\u001b[0m\u001b[0mndim\u001b[0m \u001b[0;34m>\u001b[0m \u001b[0;36m2\u001b[0m \u001b[0;32mor\u001b[0m \u001b[0my\u001b[0m\u001b[0;34m.\u001b[0m\u001b[0mndim\u001b[0m \u001b[0;34m>\u001b[0m \u001b[0;36m2\u001b[0m\u001b[0;34m:\u001b[0m\u001b[0;34m\u001b[0m\u001b[0;34m\u001b[0m\u001b[0m\n",
            "\u001b[0;31mValueError\u001b[0m: x and y must have same first dimension, but have shapes (40,) and (1, 40)"
          ]
        },
        {
          "output_type": "display_data",
          "data": {
            "image/png": "[encoded data removed]",
            "text/plain": [
              "<Figure size 432x288 with 1 Axes>"
            ]
          },
          "metadata": {
            "tags": [],
            "needs_background": "light"
          }
        }
      ]
    },
    {
      "cell_type": "code",
      "metadata": {
        "id": "FN639G3Z_0mQ"
      },
      "source": [
        ""
      ],
      "execution_count": null,
      "outputs": []
    }
  ]
}