{
 "cells": [
  {
   "cell_type": "code",
   "execution_count": 10,
   "metadata": {},
   "outputs": [
    {
     "name": "stdout",
     "output_type": "stream",
     "text": [
      "Error in input type\n",
      "in final\n"
     ]
    }
   ],
   "source": [
    "try:\n",
    "    for i in ['a','b','c']:\n",
    "        print(i**2)\n",
    "    \n",
    "except TypeError:\n",
    "    print(\"There is a type Error in input type\")\n",
    "finally:\n",
    "    print(\"in final\")"
   ]
  },
  {
   "cell_type": "code",
   "execution_count": 13,
   "metadata": {},
   "outputs": [
    {
     "name": "stdout",
     "output_type": "stream",
     "text": [
      "5.0\n",
      "give value again\n"
     ]
    }
   ],
   "source": [
    "x=5\n",
    "y=1\n",
    "\n",
    "try:\n",
    "    z=x/y\n",
    "    \n",
    "except ZeroDivisionError:\n",
    "    print(\"incorrectly divided by zero\")\n",
    "else:\n",
    "    print(z)\n",
    "finally:\n",
    "    print(\"give value again\")\n"
   ]
  },
  {
   "cell_type": "code",
   "execution_count": 40,
   "metadata": {},
   "outputs": [],
   "source": [
    "def square():\n",
    "    while True:\n",
    "        try:\n",
    "            i=int(input(\"Give number you want to square: \"))\n",
    "        except:\n",
    "            print(\"It is not a number\")\n",
    "            continue\n",
    "        else:\n",
    "            sq= i**2\n",
    "            print (\"square of number is \",  sq)\n",
    "            break\n",
    "            "
   ]
  },
  {
   "cell_type": "code",
   "execution_count": 42,
   "metadata": {},
   "outputs": [
    {
     "name": "stdout",
     "output_type": "stream",
     "text": [
      "Give number you want to square: four\n",
      "It is not a number\n",
      "Give number you want to square: null\n",
      "It is not a number\n",
      "Give number you want to square: 4\n",
      "square of number is  16\n"
     ]
    }
   ],
   "source": [
    "square()\n"
   ]
  },
  {
   "cell_type": "code",
   "execution_count": null,
   "metadata": {},
   "outputs": [],
   "source": []
  }
 ],
 "metadata": {
  "kernelspec": {
   "display_name": "Python 3",
   "language": "python",
   "name": "python3"
  },
  "language_info": {
   "codemirror_mode": {
    "name": "ipython",
    "version": 3
   },
   "file_extension": ".py",
   "mimetype": "text/x-python",
   "name": "python",
   "nbconvert_exporter": "python",
   "pygments_lexer": "ipython3",
   "version": "3.7.1"
  }
 },
 "nbformat": 4,
 "nbformat_minor": 2
}
