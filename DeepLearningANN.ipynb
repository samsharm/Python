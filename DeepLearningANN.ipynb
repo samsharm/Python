{
  "nbformat": 4,
  "nbformat_minor": 0,
  "metadata": {
    "colab": {
      "name": "DeepLearningANN.ipynb",
      "provenance": [],
      "collapsed_sections": [],
      "authorship_tag": "ABX9TyNFAE9YXYKEUplBREhNP0uv",
      "include_colab_link": true
    },
    "kernelspec": {
      "name": "python3",
      "display_name": "Python 3"
    },
    "language_info": {
      "name": "python"
    }
  },
  "cells": [
    {
      "cell_type": "markdown",
      "metadata": {
        "id": "view-in-github",
        "colab_type": "text"
      },
      "source": [
        "<a href=\"https://colab.research.google.com/github/samsharm/Python/blob/master/DeepLearningANN.ipynb\" target=\"_parent\"><img src=\"https://colab.research.google.com/assets/colab-badge.svg\" alt=\"Open In Colab\"/></a>"
      ]
    },
    {
      "cell_type": "code",
      "metadata": {
        "id": "Ac1evvRrYYKM"
      },
      "source": [
        "import numpy as np\n",
        "import tensorflow as tf\n",
        "from sklearn.datasets import make_moons\n",
        "from keras.layers import Dense, Dropout\n",
        "from keras.models import Sequential\n",
        "from keras.callbacks import EarlyStopping, ModelCheckpoint\n",
        "from matplotlib import pyplot\n",
        "from keras.models import load_model\n"
      ],
      "execution_count": 76,
      "outputs": []
    },
    {
      "cell_type": "code",
      "metadata": {
        "id": "HjJRajE9LmJD"
      },
      "source": [
        "#generate datasetd\n",
        "\n",
        "X,y=make_moons(n_samples=100,noise=0.2,random_state=1)"
      ],
      "execution_count": 77,
      "outputs": []
    },
    {
      "cell_type": "code",
      "metadata": {
        "colab": {
          "base_uri": "https://localhost:8080/"
        },
        "id": "h4EcwuW5GvXB",
        "outputId": "9218fba2-903d-40e4-fffe-fe1a4f3312a0"
      },
      "source": [
        "print(X.shape)\n",
        "print(y.shape)"
      ],
      "execution_count": 78,
      "outputs": [
        {
          "output_type": "stream",
          "text": [
            "(100, 2)\n",
            "(100,)\n"
          ],
          "name": "stdout"
        }
      ]
    },
    {
      "cell_type": "code",
      "metadata": {
        "id": "KbkbpZ1BbKKP"
      },
      "source": [
        "n_train=70\n",
        "trainX,testX=X[:n_train,],X[n_train:]\n",
        "trainy,testy=y[:n_train],y[n_train:]"
      ],
      "execution_count": 79,
      "outputs": []
    },
    {
      "cell_type": "code",
      "metadata": {
        "colab": {
          "base_uri": "https://localhost:8080/"
        },
        "id": "-dAUTfmaGEfL",
        "outputId": "64278b1e-c1d9-4aad-8fbb-e73b4c5d1158"
      },
      "source": [
        "print(trainX.shape)\n",
        "print(testX.shape)\n",
        "print(trainy.shape)\n",
        "print(testy.shape)"
      ],
      "execution_count": 80,
      "outputs": [
        {
          "output_type": "stream",
          "text": [
            "(70, 2)\n",
            "(30, 2)\n",
            "(70,)\n",
            "(30,)\n"
          ],
          "name": "stdout"
        }
      ]
    },
    {
      "cell_type": "code",
      "metadata": {
        "id": "KSoi8nBbbiS6"
      },
      "source": [
        "model=Sequential()\n",
        "model.add(Dense(500,input_dim=2, activation='relu', kernel_regularizer='l1'))\n",
        "model.add(Dropout(0.4))\n",
        "model.add(Dense(200, activation='relu',kernel_regularizer='l1'))\n",
        "model.add(Dropout(0.2))\n",
        "model.add(Dense(100,activation='relu'))\n",
        "model.add(Dense(1,activation='sigmoid'))\n",
        "model.compile(loss='binary_crossentropy',optimizer='Adam', metrics=['accuracy'])\n",
        "\n"
      ],
      "execution_count": 81,
      "outputs": []
    },
    {
      "cell_type": "code",
      "metadata": {
        "id": "QRV7kgqGnAiR"
      },
      "source": [
        "es=tf.keras.callbacks.EarlyStopping(\n",
        "    monitor='val_loss',\n",
        "    min_delta=0,\n",
        "    patience=0,\n",
        "    verbose=0,\n",
        "    mode='auto',\n",
        "    baseline=None,\n",
        "    restore_best_weights=False  \n",
        ")\n",
        "\n",
        "mc=ModelCheckpoint('best_model.h5',monitor='val_accuracy', mode='max', save_best_only=True)"
      ],
      "execution_count": 82,
      "outputs": []
    },
    {
      "cell_type": "code",
      "metadata": {
        "id": "VkkM_iyb9zEj"
      },
      "source": [
        "history=model.fit(trainX,trainy,validation_data=((np.array(testX)),(np.array(testy))),epochs=25,verbose=0,callbacks=[es,mc])"
      ],
      "execution_count": 87,
      "outputs": []
    },
    {
      "cell_type": "code",
      "metadata": {
        "id": "nfX6rRT7H3-F"
      },
      "source": [
        "save_model= load_model('best_model.h5')"
      ],
      "execution_count": 88,
      "outputs": []
    },
    {
      "cell_type": "code",
      "metadata": {
        "id": "DKFgfPwOJJm1"
      },
      "source": [
        "train_acc=save_model.evaluate(trainX,trainy,verbose=0)\n",
        "test_acc=save_model.evaluate(testX,testy,verbose=0)"
      ],
      "execution_count": 89,
      "outputs": []
    },
    {
      "cell_type": "code",
      "metadata": {
        "colab": {
          "base_uri": "https://localhost:8080/",
          "height": 316
        },
        "id": "LtSc0p-bJ43Y",
        "outputId": "558d645c-cb1c-48c3-ff16-8888e6d97b8e"
      },
      "source": [
        "print(\"Train Accuracy\",train_acc)\n",
        "print(\"Test_Accuracy\",test_acc)\n",
        "pyplot.plot(history.history['accuracy'], label='train')\n",
        "pyplot.plot(history.history['val_accuracy'], label='test')"
      ],
      "execution_count": 90,
      "outputs": [
        {
          "output_type": "stream",
          "text": [
            "Train Accuracy [1.9945652484893799, 0.8142856955528259]\n",
            "Test_Accuracy [2.0814504623413086, 0.800000011920929]\n"
          ],
          "name": "stdout"
        },
        {
          "output_type": "execute_result",
          "data": {
            "text/plain": [
              "[<matplotlib.lines.Line2D at 0x7f227ca0fd90>]"
            ]
          },
          "metadata": {
            "tags": []
          },
          "execution_count": 90
        },
        {
          "output_type": "display_data",
          "data": {
            "image/png": "[encoded data removed]",
            "text/plain": [
              "<Figure size 432x288 with 1 Axes>"
            ]
          },
          "metadata": {
            "tags": [],
            "needs_background": "light"
          }
        }
      ]
    },
    {
      "cell_type": "code",
      "metadata": {
        "id": "KTLUfR1IKYsY"
      },
      "source": [
        ""
      ],
      "execution_count": 90,
      "outputs": []
    }
  ]
}