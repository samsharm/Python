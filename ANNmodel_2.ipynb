{
  "nbformat": 4,
  "nbformat_minor": 0,
  "metadata": {
    "colab": {
      "name": "ANNmodel-2.ipynb",
      "provenance": [],
      "collapsed_sections": [],
      "authorship_tag": "ABX9TyNiqO0z36GIGoIe5IFwhClC",
      "include_colab_link": true
    },
    "kernelspec": {
      "name": "python3",
      "display_name": "Python 3"
    },
    "language_info": {
      "name": "python"
    }
  },
  "cells": [
    {
      "cell_type": "markdown",
      "metadata": {
        "id": "view-in-github",
        "colab_type": "text"
      },
      "source": [
        "<a href=\"https://colab.research.google.com/github/samsharm/Python/blob/master/ANNmodel_2.ipynb\" target=\"_parent\"><img src=\"https://colab.research.google.com/assets/colab-badge.svg\" alt=\"Open In Colab\"/></a>"
      ]
    },
    {
      "cell_type": "code",
      "metadata": {
        "id": "2SRi4fUdgyKN"
      },
      "source": [
        "import tensorflow as tf\n",
        "from sklearn.datasets import make_moons\n",
        "from keras.models import Sequential\n",
        "from keras.layers import Dense,Dropout\n",
        "from keras.callbacks import EarlyStopping\n",
        "from keras.callbacks import ModelCheckpoint\n",
        "from matplotlib import pyplot\n",
        "from keras.models import load_model\n",
        "# generate 2d classification dataset\n",
        "X, y = make_moons(n_samples=100, noise=0.2, random_state=1)\n",
        "\n"
      ],
      "execution_count": 3,
      "outputs": []
    },
    {
      "cell_type": "code",
      "metadata": {
        "id": "HzlV75Nog5lD"
      },
      "source": [
        "# split into train and test\n",
        "n_train = 30\n",
        "trainX, testX = X[:n_train, :], X[n_train:, :]\n",
        "trainy, testy = y[:n_train], y[n_train:]\n",
        "adam=tf.keras.optimizers.Adam(\n",
        "    learning_rate=0.01,\n",
        "    beta_1=0.9,\n",
        "    beta_2=0.999,\n",
        "    epsilon=1e-07,\n",
        "    amsgrad=False,\n",
        "    name=\"Adam\"\n",
        ")\n",
        "# define model\n",
        "model = Sequential()\n",
        "model.add(Dense(500, input_dim=2, activation='relu',kernel_regularizer='l1'))\n",
        "model.add(Dropout(0.4))\n",
        "model.add(Dense(200, input_dim=2, activation='relu',kernel_regularizer='l1'))\n",
        "model.add(Dropout(0.2))\n",
        "model.add(Dense(100, input_dim=2, activation='relu'))\n",
        "model.add(Dense(1, activation='sigmoid'))\n",
        "model.compile(loss='binary_crossentropy', optimizer=adam, metrics=['accuracy'])\n",
        "# simple early stopping\n",
        "es = EarlyStopping(monitor='val_loss', mode='min', verbose=1, patience=200)\n",
        "mc = ModelCheckpoint('best_model.h5', monitor='val_accuracy', mode='max', verbose=1, save_best_only=True)\n"
      ],
      "execution_count": 4,
      "outputs": []
    },
    {
      "cell_type": "code",
      "metadata": {
        "colab": {
          "base_uri": "https://localhost:8080/",
          "height": 1000
        },
        "id": "vcFBVTPFg8J_",
        "outputId": "160c7df8-4c38-43fe-c33f-76f11275cd9e"
      },
      "source": [
        "# fit model\n",
        "history = model.fit(trainX, trainy, validation_data=(testX, testy), epochs=25, verbose=0, callbacks=[es, mc])\n",
        "# load the saved model\n",
        "saved_model = load_model('best_model.h5')\n",
        "# evaluate the model\n",
        "_, train_acc = saved_model.evaluate(trainX, trainy, verbose=0)\n",
        "_, test_acc = saved_model.evaluate(testX, testy, verbose=0)\n",
        "print('Train: %.3f, Test: %.3f' % (train_acc, test_acc))\n",
        "\n",
        "pyplot.plot(history.history['accuracy'], label='train')\n",
        "pyplot.plot(history.history['val_accuracy'], label='test')\n",
        "pyplot.legend()\n",
        "pyplot.show()"
      ],
      "execution_count": 6,
      "outputs": [
        {
          "output_type": "stream",
          "text": [
            "\n",
            "Epoch 00001: val_accuracy improved from -inf to 0.74286, saving model to best_model.h5\n",
            "\n",
            "Epoch 00002: val_accuracy did not improve from 0.74286\n",
            "\n",
            "Epoch 00003: val_accuracy did not improve from 0.74286\n",
            "\n",
            "Epoch 00004: val_accuracy did not improve from 0.74286\n",
            "\n",
            "Epoch 00005: val_accuracy did not improve from 0.74286\n",
            "\n",
            "Epoch 00006: val_accuracy did not improve from 0.74286\n",
            "\n",
            "Epoch 00007: val_accuracy did not improve from 0.74286\n",
            "\n",
            "Epoch 00008: val_accuracy improved from 0.74286 to 0.75714, saving model to best_model.h5\n",
            "\n",
            "Epoch 00009: val_accuracy did not improve from 0.75714\n",
            "\n",
            "Epoch 00010: val_accuracy did not improve from 0.75714\n",
            "\n",
            "Epoch 00011: val_accuracy did not improve from 0.75714\n",
            "\n",
            "Epoch 00012: val_accuracy improved from 0.75714 to 0.81429, saving model to best_model.h5\n",
            "\n",
            "Epoch 00013: val_accuracy did not improve from 0.81429\n",
            "\n",
            "Epoch 00014: val_accuracy did not improve from 0.81429\n",
            "\n",
            "Epoch 00015: val_accuracy did not improve from 0.81429\n",
            "\n",
            "Epoch 00016: val_accuracy did not improve from 0.81429\n",
            "\n",
            "Epoch 00017: val_accuracy did not improve from 0.81429\n",
            "\n",
            "Epoch 00018: val_accuracy did not improve from 0.81429\n",
            "\n",
            "Epoch 00019: val_accuracy improved from 0.81429 to 0.82857, saving model to best_model.h5\n",
            "\n",
            "Epoch 00020: val_accuracy improved from 0.82857 to 0.84286, saving model to best_model.h5\n",
            "\n",
            "Epoch 00021: val_accuracy improved from 0.84286 to 0.87143, saving model to best_model.h5\n",
            "\n",
            "Epoch 00022: val_accuracy did not improve from 0.87143\n",
            "\n",
            "Epoch 00023: val_accuracy did not improve from 0.87143\n",
            "\n",
            "Epoch 00024: val_accuracy did not improve from 0.87143\n",
            "\n",
            "Epoch 00025: val_accuracy did not improve from 0.87143\n",
            "Train: 0.867, Test: 0.871\n"
          ],
          "name": "stdout"
        },
        {
          "output_type": "display_data",
          "data": {
            "image/png": "[encoded data removed]",
            "text/plain": [
              "<Figure size 432x288 with 1 Axes>"
            ]
          },
          "metadata": {
            "tags": [],
            "needs_background": "light"
          }
        }
      ]
    }
  ]
}