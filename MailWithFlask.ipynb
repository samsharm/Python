{
  "nbformat": 4,
  "nbformat_minor": 0,
  "metadata": {
    "colab": {
      "name": "MailWithFlask.ipynb",
      "provenance": [],
      "authorship_tag": "ABX9TyOd6zcY041bi4QuNqMcnLDd",
      "include_colab_link": true
    },
    "kernelspec": {
      "name": "python3",
      "display_name": "Python 3"
    }
  },
  "cells": [
    {
      "cell_type": "markdown",
      "metadata": {
        "id": "view-in-github",
        "colab_type": "text"
      },
      "source": [
        "<a href=\"https://colab.research.google.com/github/samsharm/Python/blob/master/MailWithFlask.ipynb\" target=\"_parent\"><img src=\"https://colab.research.google.com/assets/colab-badge.svg\" alt=\"Open In Colab\"/></a>"
      ]
    },
    {
      "cell_type": "code",
      "metadata": {
        "id": "F2Sm5SBnJwkA"
      },
      "source": [
        "pip install Flask"
      ],
      "execution_count": null,
      "outputs": []
    },
    {
      "cell_type": "code",
      "metadata": {
        "id": "cig2VsopJ2pp"
      },
      "source": [
        "pip install Flask_Mail"
      ],
      "execution_count": null,
      "outputs": []
    },
    {
      "cell_type": "code",
      "metadata": {
        "id": "8YYxNFX9Jh3Z"
      },
      "source": [
        "from flask import Flask\r\n",
        "from flask_mail import Mail, Message\r\n",
        "import os\r\n",
        "\r\n",
        "app=Flask(__name__)\r\n",
        "\r\n",
        "mail_settings = {\r\n",
        "    \"MAIL_SERVER\": 'smtp.gmal.com',\r\n",
        "    \"MAIL_USE_TLS\": False,\r\n",
        "    \"MAIL_USE_SSL\": True,\r\n",
        "    \"MAIL_PORT\": 465,\r\n",
        "    \"MAIL_USERNAME\": \"samta.sharma03@gmail.com\",\r\n",
        "    \"MAIL_PASSWORD\": \"Iscon23*\"\r\n",
        "    \r\n",
        "}\r\n",
        "\r\n",
        "app.config.update(mail_settings)\r\n",
        "mail=Mail(app)\r\n"
      ],
      "execution_count": 4,
      "outputs": []
    },
    {
      "cell_type": "code",
      "metadata": {
        "id": "n93sE40RJ_IP"
      },
      "source": [
        "if __name__=='__main__':\r\n",
        "    with app.app_context():\r\n",
        "        msg=Message(sender=app.config.get(\"MAIL_USERNAME\"), \r\n",
        "                   recipients=[\"arun.sharma@masenergy.in\",\"masenergysystems@gmail.com\",\"samta_sharma03@yahoo.com\"])\r\n",
        "        \r\n",
        "        msg.subject = \"Bulkmail-text\"\r\n",
        "        msg.body=\"Ignore this mail. Testing of bulk email via flask\"\r\n",
        "        \r\n",
        "        mail.send(msg)"
      ],
      "execution_count": null,
      "outputs": []
    },
    {
      "cell_type": "code",
      "metadata": {
        "id": "zPpWmaebKxhH"
      },
      "source": [
        ""
      ],
      "execution_count": null,
      "outputs": []
    }
  ]
}